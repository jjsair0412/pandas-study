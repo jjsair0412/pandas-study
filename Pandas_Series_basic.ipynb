{
  "cells": [
    {
      "cell_type": "markdown",
      "metadata": {
        "id": "VvalVRcEIRV_"
      },
      "source": [
        "# Pandas Series Repository\n",
        "data 분석을 위한 Pandas 라이브러리에 대해 정리해 두었습니다."
      ]
    },
    {
      "cell_type": "markdown",
      "metadata": {
        "id": "C27_VZHxI2-L"
      },
      "source": [
        "Pandas는 numpy라는 데이터 조작 분석 툴로 데이터프레임이라 하는 데이터 구조를 사용함.\n",
        "\n",
        "Pandas를 python의 엑셀이라 보면 됨.\n",
        "\n",
        "테이블형식 데이터를 매우 쉽게 처리가 가능함.\n",
        "- 행, 열을 활용하거나 데이터를 저장할 수 있음.\n",
        "\n",
        "**Pandas Series 는 데이터 프레임의 열을 일컫는 표현**\n",
        "- Pandas Series는 열이 하나밖에 없음\n",
        "\n",
        "**DataFrame 이란 다차원 테이블 데이터**"
      ]
    },
    {
      "cell_type": "code",
      "execution_count": 2,
      "metadata": {
        "id": "lou2DOOaJu-5"
      },
      "outputs": [],
      "source": [
        "import pandas as pd # pandas 사용하기 위해 import"
      ]
    },
    {
      "cell_type": "markdown",
      "metadata": {
        "id": "gg0HKaIPJ6uL"
      },
      "source": [
        "Python List를 정의하여 , 해당 List에 5개의 stock을 정의\n",
        "- stock 명시코드 NVDA , **MSFT** , **FB** , **AMZN** , **BA** 로 정의"
      ]
    },
    {
      "cell_type": "code",
      "execution_count": null,
      "metadata": {
        "colab": {
          "base_uri": "https://localhost:8080/"
        },
        "id": "ycWR5HfsKA4q",
        "outputId": "7a59bfa7-e8e1-4fe3-ce01-92f21baa8b87"
      },
      "outputs": [
        {
          "data": {
            "text/plain": [
              "['NVDA', 'MSFT', 'FB', 'AMZN', 'BA']"
            ]
          },
          "execution_count": 3,
          "metadata": {},
          "output_type": "execute_result"
        }
      ],
      "source": [
        "my_list = ['NVDA', 'MSFT', 'FB', 'AMZN', 'BA']\n",
        "my_list # print list"
      ]
    },
    {
      "cell_type": "code",
      "execution_count": null,
      "metadata": {
        "colab": {
          "base_uri": "https://localhost:8080/"
        },
        "id": "abneDxC9Kj9C",
        "outputId": "58073b26-2109-4a12-b72e-edc1811a7521"
      },
      "outputs": [
        {
          "data": {
            "text/plain": [
              "list"
            ]
          },
          "execution_count": 4,
          "metadata": {},
          "output_type": "execute_result"
        }
      ],
      "source": [
        "type(my_list) # list datatype check"
      ]
    },
    {
      "cell_type": "markdown",
      "metadata": {
        "id": "aLf5Q_T3KpNd"
      },
      "source": [
        "정의한 my_list 를 1차원 Pandas Series로 생성\n",
        "\n",
        "출력결과 **List 좌측에 숫자형 인덱스가 자동으로 생성**된것을 확인할 수 있음.\n",
        "\n",
        "***시리즈는 데이터, 그리고 연관된 인덱스***로 만들어짐.\n",
        "- 숫자형 인덱스는 좌측에 자동생성됨.\n",
        "\n",
        "또한 dataType 또한 자동으로 표기됨.\n",
        "\n",
        "**object** dataType은 **pandas에서 문자열**이라 생각하면 됨"
      ]
    },
    {
      "cell_type": "code",
      "execution_count": null,
      "metadata": {
        "colab": {
          "base_uri": "https://localhost:8080/"
        },
        "id": "7_fRHcHcKoLD",
        "outputId": "3e690d05-9bec-4f42-8f16-d0f7a9684121"
      },
      "outputs": [
        {
          "data": {
            "text/plain": [
              "0    NVDA\n",
              "1    MSFT\n",
              "2      FB\n",
              "3    AMZN\n",
              "4      BA\n",
              "dtype: object"
            ]
          },
          "execution_count": 6,
          "metadata": {},
          "output_type": "execute_result"
        }
      ],
      "source": [
        "# 1. 먼저 pandas 생성자 메서드 사용\n",
        "# Series() 메서드 사용하면, Pandas Series를 자동으로 생성해줌.\n",
        "# Python 코드에서 생성한 List를 Pandas Series로 생성\n",
        "series_1 = pd.Series(data = my_list)\n",
        "# Series 출력\n",
        "series_1"
      ]
    },
    {
      "cell_type": "code",
      "execution_count": null,
      "metadata": {
        "colab": {
          "base_uri": "https://localhost:8080/"
        },
        "id": "2i0vtgbOLu-0",
        "outputId": "43b4cde1-4c5f-4021-a657-978a043e1e96"
      },
      "outputs": [
        {
          "name": "stdout",
          "output_type": "stream",
          "text": [
            "<class 'pandas.core.series.Series'>\n"
          ]
        }
      ],
      "source": [
        "print(type(series_1)) # type : pandas.core.series.Series"
      ]
    },
    {
      "cell_type": "code",
      "execution_count": null,
      "metadata": {
        "colab": {
          "base_uri": "https://localhost:8080/"
        },
        "id": "f3gqSkrKMIex",
        "outputId": "b6104a77-3478-4feb-89dc-e86b2c698cb1"
      },
      "outputs": [
        {
          "data": {
            "text/plain": [
              "0     100\n",
              "1     200\n",
              "2     500\n",
              "3    1000\n",
              "4    5000\n",
              "dtype: int64"
            ]
          },
          "execution_count": 10,
          "metadata": {},
          "output_type": "execute_result"
        }
      ],
      "source": [
        "# 숫자형 리스트를 통해 Pandas Series를 생성\n",
        "# Data Type = int64 (정수형 , 64비트 메모리를 백엔드에서 사용중)\n",
        "series_2 = pd.Series(data = [100, 200, 500, 1000, 5000])\n",
        "series_2"
      ]
    },
    {
      "cell_type": "code",
      "execution_count": null,
      "metadata": {
        "colab": {
          "base_uri": "https://localhost:8080/"
        },
        "id": "SIxz32OPMpU7",
        "outputId": "13b84730-7e4a-4c88-95a6-c93fe92b790a"
      },
      "outputs": [
        {
          "data": {
            "text/plain": [
              "0    God Father\n",
              "1        Django\n",
              "2    Inside Out\n",
              "dtype: object"
            ]
          },
          "execution_count": 12,
          "metadata": {},
          "output_type": "execute_result"
        }
      ],
      "source": [
        "# 나만의 Pandas Series 생성\n",
        "my_series = pd.Series(data = ['God Father', 'Django', 'Inside Out'])\n",
        "my_series"
      ]
    },
    {
      "cell_type": "code",
      "execution_count": null,
      "metadata": {
        "colab": {
          "base_uri": "https://localhost:8080/"
        },
        "id": "H95T_oO7NCkY",
        "outputId": "137c2b01-41b3-4a5c-c626-c983228c812e"
      },
      "outputs": [
        {
          "name": "stdout",
          "output_type": "stream",
          "text": [
            "<class 'pandas.core.series.Series'>\n"
          ]
        }
      ],
      "source": [
        "# type Check\n",
        "print(type(my_series))"
      ]
    },
    {
      "cell_type": "markdown",
      "metadata": {
        "id": "hrUEeeIqQCKW"
      },
      "source": [
        "# Pandas Series Index를 Custom Index로 변경\n",
        "1차원 Pandas Series를 나만의 Custom Label 혹은 Custom Index로 생성하는 방법.\n",
        "\n",
        "Pandas 기본 메서드로 Series를 생성하면, 정수형 인덱스가 자동으로 생성됨.\n",
        "- 이를 Custom으로 정의할 수 있음."
      ]
    },
    {
      "cell_type": "code",
      "execution_count": null,
      "metadata": {
        "colab": {
          "base_uri": "https://localhost:8080/"
        },
        "id": "8uyJ4IbOQVUS",
        "outputId": "c039a54a-0cf6-4c15-b6b9-c829be6ab09f"
      },
      "outputs": [
        {
          "data": {
            "text/plain": [
              "['NVDA', 'MSFT', 'FB', 'AMZN', 'BA']"
            ]
          },
          "execution_count": 17,
          "metadata": {},
          "output_type": "execute_result"
        }
      ],
      "source": [
        "# python list 생성\n",
        "# Pandas Series의 실제 값\n",
        "my_list = ['NVDA', 'MSFT', 'FB', 'AMZN', 'BA']\n",
        "my_list"
      ]
    },
    {
      "cell_type": "code",
      "execution_count": null,
      "metadata": {
        "colab": {
          "base_uri": "https://localhost:8080/"
        },
        "id": "ovtXTyPMQeVI",
        "outputId": "f32cdf5c-9741-417c-eabe-55350d3564dd"
      },
      "outputs": [
        {
          "data": {
            "text/plain": [
              "['stock#1', 'stock#2', 'stock#3', 'stock#4', 'stock#5']"
            ]
          },
          "execution_count": 18,
          "metadata": {},
          "output_type": "execute_result"
        }
      ],
      "source": [
        "# 생성한 Pandas Series의 Custom Index로 사용할 Python List 생성\n",
        "my_labels = ['stock#1','stock#2', 'stock#3', 'stock#4', 'stock#5']\n",
        "my_labels"
      ]
    },
    {
      "cell_type": "code",
      "execution_count": null,
      "metadata": {
        "colab": {
          "base_uri": "https://localhost:8080/"
        },
        "id": "gyxAbMKsQv_8",
        "outputId": "c919d3ae-32ec-45c8-e6f8-07c624bab490"
      },
      "outputs": [
        {
          "data": {
            "text/plain": [
              "stock#1    NVDA\n",
              "stock#2    MSFT\n",
              "stock#3      FB\n",
              "stock#4    AMZN\n",
              "stock#5      BA\n",
              "dtype: object"
            ]
          },
          "execution_count": 19,
          "metadata": {},
          "output_type": "execute_result"
        }
      ],
      "source": [
        "# 아래 메서드 사용해서 Custom index 지정 가능\n",
        "# pd.Series(data = {value_list}, index = {label_list})\n",
        "# 값은 my_list가 되고 , my_list의 Index는 미리 정의한 my_labels 가 된것을 확인할 수 있음.\n",
        "series_3 = pd.Series(data = my_list , index = my_labels)\n",
        "series_3"
      ]
    },
    {
      "cell_type": "code",
      "execution_count": null,
      "metadata": {
        "colab": {
          "base_uri": "https://localhost:8080/"
        },
        "id": "4811zuYYRJo4",
        "outputId": "00c97828-eb39-463f-c1b8-aa58537cc5ac"
      },
      "outputs": [
        {
          "name": "stdout",
          "output_type": "stream",
          "text": [
            "<class 'pandas.core.series.Series'>\n"
          ]
        }
      ],
      "source": [
        "# type 확인\n",
        "print(type(series_3))"
      ]
    },
    {
      "cell_type": "code",
      "execution_count": null,
      "metadata": {
        "colab": {
          "base_uri": "https://localhost:8080/"
        },
        "id": "xbKhBoZ8RhmO",
        "outputId": "42abfeda-fbb1-4203-f5f1-0dbbf8d7d190"
      },
      "outputs": [
        {
          "name": "stdout",
          "output_type": "stream",
          "text": [
            "movie #1    The Godfather\n",
            "movie #2       Last of us\n",
            "movie #3        Star Wars\n",
            "dtype: object \n",
            "\n",
            "<class 'pandas.core.series.Series'>\n"
          ]
        }
      ],
      "source": [
        "# value 정의\n",
        "my_movie = ['The Godfather', 'Last of us', 'Star Wars']\n",
        "my_movie\n",
        "\n",
        "# label 정의\n",
        "my_movie_label = ['movie #1','movie #2','movie #3']\n",
        "my_movie_label\n",
        "\n",
        "my_series = pd.Series(data = my_movie, index = my_movie_label)\n",
        "print(my_series,'\\n')\n",
        "\n",
        "print(type(my_series))"
      ]
    },
    {
      "cell_type": "markdown",
      "metadata": {
        "id": "le5JUJR8J-M5"
      },
      "source": [
        "# Pandas Series를 Python Dictionary로 정의하기\n",
        "Python Dictionary는 Key-value 쌍인 구조를 가지고 있음.\n",
        "\n",
        "각각의 키는 값과 한 쌍을 가지고, ***Key 는 Dictonary에서 고유하지만 값은 중복이 가능.***"
      ]
    },
    {
      "cell_type": "code",
      "execution_count": null,
      "metadata": {
        "id": "-Xvet9dXKnho"
      },
      "outputs": [],
      "source": [
        "# Python Dictionary 생성\n",
        "# key는 다음과같은 네가지 정보를 포함함.\n",
        "# 1. 고객 ID , 고객 이름 , 순 자산(자산 - 부채) , 거래 햇수 (은행과 거래한 지 몇년이 되었는가 ?)\n",
        "my_dict = {'Bank Client ID': 111,\n",
        "           'Bank Client Name': 'Steve',\n",
        "           'Net Worth [$]': 3500,\n",
        "           'Years with Bank': 9}"
      ]
    },
    {
      "cell_type": "code",
      "execution_count": null,
      "metadata": {
        "colab": {
          "base_uri": "https://localhost:8080/"
        },
        "id": "ih4VPhXKLVPb",
        "outputId": "a9451958-6165-457a-a97e-8fa2c49b2b30"
      },
      "outputs": [
        {
          "data": {
            "text/plain": [
              "{'Bank Client ID': 111,\n",
              " 'Bank Client Name': 'Steve',\n",
              " 'Net Worth [$]': 3500,\n",
              " 'Years with Bank': 9}"
            ]
          },
          "execution_count": 3,
          "metadata": {},
          "output_type": "execute_result"
        }
      ],
      "source": [
        "# Dictonary 확인\n",
        "my_dict"
      ]
    },
    {
      "cell_type": "code",
      "execution_count": null,
      "metadata": {
        "colab": {
          "base_uri": "https://localhost:8080/"
        },
        "id": "hleFjWGnLehm",
        "outputId": "4b54ed29-48ac-494f-94f9-b30e8a02652b"
      },
      "outputs": [
        {
          "name": "stdout",
          "output_type": "stream",
          "text": [
            "<class 'dict'>\n"
          ]
        }
      ],
      "source": [
        "# Dictonary Data Type 확인\n",
        "print(type(my_dict))"
      ]
    },
    {
      "cell_type": "code",
      "execution_count": null,
      "metadata": {
        "colab": {
          "base_uri": "https://localhost:8080/"
        },
        "id": "88zH_drPLmfJ",
        "outputId": "bfdba118-015b-45ab-90fd-a95024352300"
      },
      "outputs": [
        {
          "data": {
            "text/plain": [
              "Bank Client ID        111\n",
              "Bank Client Name    Steve\n",
              "Net Worth [$]        3500\n",
              "Years with Bank         9\n",
              "dtype: object"
            ]
          },
          "execution_count": 6,
          "metadata": {},
          "output_type": "execute_result"
        }
      ],
      "source": [
        "# Dictonary로 Pandas Series 생성\n",
        "# Series 의 index 값이 Python Dictonary의 Key가 된것을 확인할 수 있음.\n",
        "# 또한 Series의 Value는 Key값의 값이 들어간것을 확인할 수 있으며,\n",
        "# Type은 Object인것을 볼 수 있음. (Pandas에서 String과 같은 타입)\n",
        "series_4 = pd.Series(my_dict)\n",
        "series_4"
      ]
    },
    {
      "cell_type": "code",
      "execution_count": null,
      "metadata": {
        "colab": {
          "base_uri": "https://localhost:8080/"
        },
        "id": "hLT6aS-yMCPR",
        "outputId": "94296770-01ca-4899-cb7f-c047db071dc4"
      },
      "outputs": [
        {
          "data": {
            "text/plain": [
              "NVDA    785\n",
              "MSFT    406\n",
              "AMZN    174\n",
              "AAPL    181\n",
              "dtype: int64"
            ]
          },
          "execution_count": 9,
          "metadata": {},
          "output_type": "execute_result"
        }
      ],
      "source": [
        "# Series 생성\n",
        "series_5 = pd.Series(data = {\n",
        "    'NVDA': 785,\n",
        "    'MSFT': 406,\n",
        "    'AMZN': 174,\n",
        "    'AAPL': 181\n",
        "    })\n",
        "\n",
        "# 확인\n",
        "series_5"
      ]
    },
    {
      "cell_type": "markdown",
      "metadata": {
        "id": "xLGqltneNAIY"
      },
      "source": [
        "# Pandas 속성\n",
        "Pandas Series를 정의한 이후, 이에 대한 특징과 속성을 얻는 방법들.\n",
        "\n",
        "\n",
        "Pandas Series의 속성으로 세가지로 나뉨.\n",
        "1. **Attributes or Properties**\n",
        "  - 괄호나 대괄호 사용 안함.\n",
        "    - ex ) ```my_series.values, my_series.shape ...```\n",
        "2. **Methods**\n",
        "  - **( )** : 괄호를 사용하면 메서드를 사용한다는 의미\n",
        "    - ex ) ```my_series.tail(), my_series.head() ...```\n",
        "3. **Indexers**\n",
        "  - **[ ]** : 대괄호를 사용하면 인덱서를 사용하겠다는 의미\n",
        "    - ex ) ```my_series.loc[], my_series.iloc[] ...```\n"
      ]
    },
    {
      "cell_type": "code",
      "execution_count": null,
      "metadata": {
        "colab": {
          "base_uri": "https://localhost:8080/"
        },
        "id": "SS5JfW5EOpFX",
        "outputId": "b1e97e84-f916-487a-c014-3d5ce6033b08"
      },
      "outputs": [
        {
          "data": {
            "text/plain": [
              "0    NVDA\n",
              "1    MSFT\n",
              "2      FB\n",
              "3    AMZN\n",
              "4      BA\n",
              "dtype: object"
            ]
          },
          "execution_count": 11,
          "metadata": {},
          "output_type": "execute_result"
        }
      ],
      "source": [
        "# my_list 정의하여 Pandas Series로 변경\n",
        "my_list = ['NVDA', 'MSFT', 'FB', 'AMZN', 'BA']\n",
        "my_series = pd.Series(data = my_list)\n",
        "my_series"
      ]
    },
    {
      "cell_type": "code",
      "execution_count": null,
      "metadata": {
        "colab": {
          "base_uri": "https://localhost:8080/"
        },
        "id": "r_Bsrql3O5m3",
        "outputId": "67b13fdb-55b1-4646-a92c-5fc75e6849f8"
      },
      "outputs": [
        {
          "data": {
            "text/plain": [
              "array(['NVDA', 'MSFT', 'FB', 'AMZN', 'BA'], dtype=object)"
            ]
          },
          "execution_count": 12,
          "metadata": {},
          "output_type": "execute_result"
        }
      ],
      "source": [
        "# Pandas Series의 Values , Attributes 출력.\n",
        "# 괄호나 대괄호 사용하지 않았기에 Pandas Series의 value 만 출력.\n",
        "my_series.values"
      ]
    },
    {
      "cell_type": "code",
      "execution_count": null,
      "metadata": {
        "colab": {
          "base_uri": "https://localhost:8080/"
        },
        "id": "h6_E6hnNPSiE",
        "outputId": "085d3853-3cb6-4ebd-c1e7-2d7b58866680"
      },
      "outputs": [
        {
          "data": {
            "text/plain": [
              "RangeIndex(start=0, stop=5, step=1)"
            ]
          },
          "execution_count": 13,
          "metadata": {},
          "output_type": "execute_result"
        }
      ],
      "source": [
        "# Index만 출력.\n",
        "# index가 0부터 시작해서 5개까지 있는데, step, 1씩 올라간다는 의미\n",
        "my_series.index"
      ]
    },
    {
      "cell_type": "code",
      "execution_count": null,
      "metadata": {
        "colab": {
          "base_uri": "https://localhost:8080/"
        },
        "id": "n9Ack6q6PU6X",
        "outputId": "11cf5586-c78c-47d3-9055-12ce3fc1a357"
      },
      "outputs": [
        {
          "data": {
            "text/plain": [
              "dtype('O')"
            ]
          },
          "execution_count": 14,
          "metadata": {},
          "output_type": "execute_result"
        }
      ],
      "source": [
        "# 'O' 데이터타입은 Object를 의미함. 이는 Series에 저장된 데이터가 String이기 떄문에 Object로 생성됨\n",
        "my_series.dtype"
      ]
    },
    {
      "cell_type": "code",
      "execution_count": null,
      "metadata": {
        "colab": {
          "base_uri": "https://localhost:8080/"
        },
        "id": "HrQjB8mmPlF6",
        "outputId": "d3357fa4-659d-42fb-8872-38f901af7170"
      },
      "outputs": [
        {
          "data": {
            "text/plain": [
              "True"
            ]
          },
          "execution_count": 15,
          "metadata": {},
          "output_type": "execute_result"
        }
      ],
      "source": [
        "# Pandas Series의 elements들이 고유한지 아닌지를 판단함.\n",
        "# Pandas Series에 저장된 값들 (['NVDA', 'MSFT', 'FB', 'AMZN', 'BA']) 이 고유한지 판단함.\n",
        "# 겹치는값이 있으면 false\n",
        "my_series.is_unique"
      ]
    },
    {
      "cell_type": "code",
      "execution_count": null,
      "metadata": {
        "colab": {
          "base_uri": "https://localhost:8080/"
        },
        "id": "Ll_oW3goPwzf",
        "outputId": "45fb9f44-aed5-4f7a-b565-e4ee68d2dfaf"
      },
      "outputs": [
        {
          "data": {
            "text/plain": [
              "(5,)"
            ]
          },
          "execution_count": 16,
          "metadata": {},
          "output_type": "execute_result"
        }
      ],
      "source": [
        "# 요소 개수 출력, 5개 저장되어서 5 출력.\n",
        "# 1차원 Series라서 한개만나옴\n",
        "my_series.shape"
      ]
    },
    {
      "cell_type": "code",
      "execution_count": null,
      "metadata": {
        "colab": {
          "base_uri": "https://localhost:8080/"
        },
        "id": "PZAYu7VcP-0V",
        "outputId": "de2b1d42-32a3-4d64-eb7c-81e6f7fe1269"
      },
      "outputs": [
        {
          "data": {
            "text/plain": [
              "5"
            ]
          },
          "execution_count": 17,
          "metadata": {},
          "output_type": "execute_result"
        }
      ],
      "source": [
        "# Series의 Size 출력\n",
        "# 5개 저장되어있으니 5 출력\n",
        "my_series.size"
      ]
    },
    {
      "cell_type": "markdown",
      "metadata": {
        "id": "p6bXaM0oQ2wf"
      },
      "source": [
        "# Pandas Methods\n",
        "Pandas Method는 **( )** 괄호를 사용해서 정보나 특징을 출력함.\n",
        "\n",
        "Pandas Methods들은 Series 내부 정보를 변경하는데 사용함.\n",
        "- ex ) ```my_series.tail() , my_series.head(), my_series.drop_duplicates() ...```\n",
        "\n",
        "\n"
      ]
    },
    {
      "cell_type": "code",
      "execution_count": null,
      "metadata": {
        "colab": {
          "base_uri": "https://localhost:8080/"
        },
        "id": "-x1erTJERLQJ",
        "outputId": "5ded05c0-80a1-4e87-d814-619128f5535b"
      },
      "outputs": [
        {
          "data": {
            "text/plain": [
              "0     100\n",
              "1     200\n",
              "2     500\n",
              "3    1000\n",
              "4    5000\n",
              "dtype: int64"
            ]
          },
          "execution_count": 18,
          "metadata": {},
          "output_type": "execute_result"
        }
      ],
      "source": [
        "# Test Series 생성\n",
        "my_series = pd.Series(data = [100, 200, 500, 1000, 5000])\n",
        "my_series"
      ]
    },
    {
      "cell_type": "code",
      "execution_count": null,
      "metadata": {
        "colab": {
          "base_uri": "https://localhost:8080/"
        },
        "id": "flPhkCrRRY6G",
        "outputId": "302bb25e-180f-46fb-d908-ef1c93329929"
      },
      "outputs": [
        {
          "data": {
            "text/plain": [
              "6800"
            ]
          },
          "execution_count": 19,
          "metadata": {},
          "output_type": "execute_result"
        }
      ],
      "source": [
        "# sum() 메서드로 모든 Series의 value들을 더할 수 있음\n",
        "my_series.sum()"
      ]
    },
    {
      "cell_type": "code",
      "execution_count": null,
      "metadata": {
        "colab": {
          "base_uri": "https://localhost:8080/"
        },
        "id": "1n2K5LtDRhQ-",
        "outputId": "45393db8-97c0-4969-a0f1-f6d9d26a6071"
      },
      "outputs": [
        {
          "data": {
            "text/plain": [
              "50000000000000"
            ]
          },
          "execution_count": 20,
          "metadata": {},
          "output_type": "execute_result"
        }
      ],
      "source": [
        "# product() 메서드로 Series의 모든 value들을 곱할 수 있음\n",
        "my_series.product()"
      ]
    },
    {
      "cell_type": "code",
      "execution_count": null,
      "metadata": {
        "colab": {
          "base_uri": "https://localhost:8080/"
        },
        "id": "7BIb1FwfRmMz",
        "outputId": "29d0b6cc-fce1-4858-e4d1-3ac8416c58b0"
      },
      "outputs": [
        {
          "data": {
            "text/plain": [
              "1360.0"
            ]
          },
          "execution_count": 21,
          "metadata": {},
          "output_type": "execute_result"
        }
      ],
      "source": [
        "# mean() 메서드로 Series의 모든 value들의 평균을 구할 수 있음\n",
        "my_series.mean()"
      ]
    },
    {
      "cell_type": "code",
      "execution_count": null,
      "metadata": {
        "colab": {
          "base_uri": "https://localhost:8080/"
        },
        "id": "W0_3gp0PRyfL",
        "outputId": "b864d787-2e6d-4505-c54b-f58ec7036e60"
      },
      "outputs": [
        {
          "data": {
            "text/plain": [
              "0    100\n",
              "1    200\n",
              "dtype: int64"
            ]
          },
          "execution_count": 23,
          "metadata": {},
          "output_type": "execute_result"
        }
      ],
      "source": [
        "# head(number) 메서드로 Series의 value중 처음 n 개들의 요소들만 출력할 수 있음.\n",
        "# head() 메서드 파라미터로 value number 들어감\n",
        "my_series.head(2)"
      ]
    },
    {
      "cell_type": "code",
      "execution_count": null,
      "metadata": {
        "colab": {
          "base_uri": "https://localhost:8080/"
        },
        "id": "RL_c8xtUR31z",
        "outputId": "8f7ddfcf-a7f0-41cc-d940-1a2022017a68"
      },
      "outputs": [
        {
          "data": {
            "text/plain": [
              "0    100\n",
              "1    200\n",
              "2    500\n",
              "dtype: int64"
            ]
          },
          "execution_count": 24,
          "metadata": {},
          "output_type": "execute_result"
        }
      ],
      "source": [
        "# head(number) 메서드로 특정 Series의 value들만 뽑아서 하위 Series를 생성할 수 잇음.\n",
        "# - DataFrame 기초\n",
        "new_series = my_series.head(3)\n",
        "new_series"
      ]
    },
    {
      "cell_type": "code",
      "execution_count": null,
      "metadata": {
        "colab": {
          "base_uri": "https://localhost:8080/"
        },
        "id": "rGEO8PK4SKhN",
        "outputId": "86c4f466-c18a-4fa1-b752-3b2cef49c6ef"
      },
      "outputs": [
        {
          "data": {
            "text/plain": [
              "3    1000\n",
              "4    5000\n",
              "dtype: int64"
            ]
          },
          "execution_count": 32,
          "metadata": {},
          "output_type": "execute_result"
        }
      ],
      "source": [
        "# tail(number) 메서드로 특정 Series의 value 중 아래부터 n개 위의 요소들만 뽑아올 수 있음.\n",
        "# tail() 메서드 파라미터로 value number 들어감\n",
        "my_series.tail(2)"
      ]
    },
    {
      "cell_type": "code",
      "execution_count": null,
      "metadata": {
        "colab": {
          "base_uri": "https://localhost:8080/"
        },
        "id": "roGqGDM-SbYv",
        "outputId": "2646af9b-dcc1-4660-ab86-c389ae09640b"
      },
      "outputs": [
        {
          "data": {
            "text/plain": [
              "168"
            ]
          },
          "execution_count": 34,
          "metadata": {},
          "output_type": "execute_result"
        }
      ],
      "source": [
        "# series 메모리 소비량 확인\n",
        "my_series.memory_usage()"
      ]
    },
    {
      "cell_type": "markdown",
      "metadata": {
        "id": "WJjfOSysdeez"
      },
      "source": [
        "# CSV 데이터를 Pandas를 이용하여 Import 하는 방안\n",
        ".CSV 데이터 파일을 Pandas 를 통해 Import 하는 방안에 대해 기술합니다.\n",
        "\n",
        "Pandas의 read_csv 를 사용하여 CSV file을 Import 함.\n",
        "\n",
        "```read_``` 메서드를 확인해보면 , 정말 다양한 Data Format을 Import 할 수 있는것을 확인할 수 있음.\n",
        "- html, json, execl 등 ...\n",
        "\n",
        "\n",
        "\n",
        "Pandas Series, 일차원 배열로 import 하는 방안과, DataFrame인 다차원 배열로 Import 하는 방안 두가지로 나뉨."
      ]
    },
    {
      "cell_type": "code",
      "execution_count": 5,
      "metadata": {
        "colab": {
          "base_uri": "https://localhost:8080/"
        },
        "id": "z5baVbw7ds7D",
        "outputId": "210334f9-cfce-4472-e1a3-5fd7a616a530"
      },
      "outputs": [
        {
          "data": {
            "text/plain": [
              "0       1295.500000\n",
              "1       1289.089966\n",
              "2       1293.670044\n",
              "3       1308.040039\n",
              "4       1314.500000\n",
              "           ...     \n",
              "2154    3327.770020\n",
              "2155    3349.159912\n",
              "2156    3351.280029\n",
              "2157    3360.469971\n",
              "2158    3333.689941\n",
              "Name: sp500, Length: 2159, dtype: float64"
            ]
          },
          "execution_count": 5,
          "metadata": {},
          "output_type": "execute_result"
        }
      ],
      "source": [
        "# read_csv(file_path) 메서드로 Import 함.\n",
        "# 파라미터로 파일 경로를 넣어줌\n",
        "# squeeze(Boolean) 메서드의 파라미터를 True로 두어서 어떤 데이터 타입을 넣엇던간에 Pandas Series로 가져오겠다는 의미임.\n",
        "# squeeze(Boolean) 메서드 파라미터를 false로 두면, Pandas가 무조건 데이터를 DataFrame으로 가져오게 됨.\n",
        "# - default Option이 false임\n",
        "sp500 = pd.read_csv('S_P500_Prices.csv').squeeze(True)\n",
        "\n",
        "# 출력결과 CSV 파일을 가져와서 Pandas Series로 출력한것을 확인할 수 있음.\n",
        "# 이름, 길이, 데이터타입이 출력됨.\n",
        "# DataFrame과 Series의 차이점은, Series는 데이터 포멧팅이 안된다는게 중요함.\n",
        "# DataFrame은 데이터가 포메팅되어 1열이 아닌 여러 행과 열을 가진 다차원 데이터 테이블임.\n",
        "sp500"
      ]
    },
    {
      "cell_type": "code",
      "execution_count": 23,
      "metadata": {
        "colab": {
          "base_uri": "https://localhost:8080/",
          "height": 424
        },
        "id": "es02p-L-fRRP",
        "outputId": "b16c4e3f-0684-49b2-d580-571aa64ef47d"
      },
      "outputs": [
        {
          "data": {
            "application/vnd.google.colaboratory.intrinsic+json": {
              "summary": "{\n  \"name\": \"sp500_df\",\n  \"rows\": 2159,\n  \"fields\": [\n    {\n      \"column\": \"sp500\",\n      \"properties\": {\n        \"dtype\": \"number\",\n        \"std\": 537.3217268874763,\n        \"min\": 1278.040039,\n        \"max\": 3386.149902,\n        \"num_unique_values\": 2147,\n        \"samples\": [\n          2176.120117,\n          3334.689941,\n          2063.590088\n        ],\n        \"semantic_type\": \"\",\n        \"description\": \"\"\n      }\n    }\n  ]\n}",
              "type": "dataframe",
              "variable_name": "sp500_df"
            },
            "text/html": [
              "\n",
              "  <div id=\"df-75796aec-470e-4f24-a1d8-4383cb2a0eb0\" class=\"colab-df-container\">\n",
              "    <div>\n",
              "<style scoped>\n",
              "    .dataframe tbody tr th:only-of-type {\n",
              "        vertical-align: middle;\n",
              "    }\n",
              "\n",
              "    .dataframe tbody tr th {\n",
              "        vertical-align: top;\n",
              "    }\n",
              "\n",
              "    .dataframe thead th {\n",
              "        text-align: right;\n",
              "    }\n",
              "</style>\n",
              "<table border=\"1\" class=\"dataframe\">\n",
              "  <thead>\n",
              "    <tr style=\"text-align: right;\">\n",
              "      <th></th>\n",
              "      <th>sp500</th>\n",
              "    </tr>\n",
              "  </thead>\n",
              "  <tbody>\n",
              "    <tr>\n",
              "      <th>0</th>\n",
              "      <td>1295.500000</td>\n",
              "    </tr>\n",
              "    <tr>\n",
              "      <th>1</th>\n",
              "      <td>1289.089966</td>\n",
              "    </tr>\n",
              "    <tr>\n",
              "      <th>2</th>\n",
              "      <td>1293.670044</td>\n",
              "    </tr>\n",
              "    <tr>\n",
              "      <th>3</th>\n",
              "      <td>1308.040039</td>\n",
              "    </tr>\n",
              "    <tr>\n",
              "      <th>4</th>\n",
              "      <td>1314.500000</td>\n",
              "    </tr>\n",
              "    <tr>\n",
              "      <th>...</th>\n",
              "      <td>...</td>\n",
              "    </tr>\n",
              "    <tr>\n",
              "      <th>2154</th>\n",
              "      <td>3327.770020</td>\n",
              "    </tr>\n",
              "    <tr>\n",
              "      <th>2155</th>\n",
              "      <td>3349.159912</td>\n",
              "    </tr>\n",
              "    <tr>\n",
              "      <th>2156</th>\n",
              "      <td>3351.280029</td>\n",
              "    </tr>\n",
              "    <tr>\n",
              "      <th>2157</th>\n",
              "      <td>3360.469971</td>\n",
              "    </tr>\n",
              "    <tr>\n",
              "      <th>2158</th>\n",
              "      <td>3333.689941</td>\n",
              "    </tr>\n",
              "  </tbody>\n",
              "</table>\n",
              "<p>2159 rows × 1 columns</p>\n",
              "</div>\n",
              "    <div class=\"colab-df-buttons\">\n",
              "\n",
              "  <div class=\"colab-df-container\">\n",
              "    <button class=\"colab-df-convert\" onclick=\"convertToInteractive('df-75796aec-470e-4f24-a1d8-4383cb2a0eb0')\"\n",
              "            title=\"Convert this dataframe to an interactive table.\"\n",
              "            style=\"display:none;\">\n",
              "\n",
              "  <svg xmlns=\"http://www.w3.org/2000/svg\" height=\"24px\" viewBox=\"0 -960 960 960\">\n",
              "    <path d=\"M120-120v-720h720v720H120Zm60-500h600v-160H180v160Zm220 220h160v-160H400v160Zm0 220h160v-160H400v160ZM180-400h160v-160H180v160Zm440 0h160v-160H620v160ZM180-180h160v-160H180v160Zm440 0h160v-160H620v160Z\"/>\n",
              "  </svg>\n",
              "    </button>\n",
              "\n",
              "  <style>\n",
              "    .colab-df-container {\n",
              "      display:flex;\n",
              "      gap: 12px;\n",
              "    }\n",
              "\n",
              "    .colab-df-convert {\n",
              "      background-color: #E8F0FE;\n",
              "      border: none;\n",
              "      border-radius: 50%;\n",
              "      cursor: pointer;\n",
              "      display: none;\n",
              "      fill: #1967D2;\n",
              "      height: 32px;\n",
              "      padding: 0 0 0 0;\n",
              "      width: 32px;\n",
              "    }\n",
              "\n",
              "    .colab-df-convert:hover {\n",
              "      background-color: #E2EBFA;\n",
              "      box-shadow: 0px 1px 2px rgba(60, 64, 67, 0.3), 0px 1px 3px 1px rgba(60, 64, 67, 0.15);\n",
              "      fill: #174EA6;\n",
              "    }\n",
              "\n",
              "    .colab-df-buttons div {\n",
              "      margin-bottom: 4px;\n",
              "    }\n",
              "\n",
              "    [theme=dark] .colab-df-convert {\n",
              "      background-color: #3B4455;\n",
              "      fill: #D2E3FC;\n",
              "    }\n",
              "\n",
              "    [theme=dark] .colab-df-convert:hover {\n",
              "      background-color: #434B5C;\n",
              "      box-shadow: 0px 1px 3px 1px rgba(0, 0, 0, 0.15);\n",
              "      filter: drop-shadow(0px 1px 2px rgba(0, 0, 0, 0.3));\n",
              "      fill: #FFFFFF;\n",
              "    }\n",
              "  </style>\n",
              "\n",
              "    <script>\n",
              "      const buttonEl =\n",
              "        document.querySelector('#df-75796aec-470e-4f24-a1d8-4383cb2a0eb0 button.colab-df-convert');\n",
              "      buttonEl.style.display =\n",
              "        google.colab.kernel.accessAllowed ? 'block' : 'none';\n",
              "\n",
              "      async function convertToInteractive(key) {\n",
              "        const element = document.querySelector('#df-75796aec-470e-4f24-a1d8-4383cb2a0eb0');\n",
              "        const dataTable =\n",
              "          await google.colab.kernel.invokeFunction('convertToInteractive',\n",
              "                                                    [key], {});\n",
              "        if (!dataTable) return;\n",
              "\n",
              "        const docLinkHtml = 'Like what you see? Visit the ' +\n",
              "          '<a target=\"_blank\" href=https://colab.research.google.com/notebooks/data_table.ipynb>data table notebook</a>'\n",
              "          + ' to learn more about interactive tables.';\n",
              "        element.innerHTML = '';\n",
              "        dataTable['output_type'] = 'display_data';\n",
              "        await google.colab.output.renderOutput(dataTable, element);\n",
              "        const docLink = document.createElement('div');\n",
              "        docLink.innerHTML = docLinkHtml;\n",
              "        element.appendChild(docLink);\n",
              "      }\n",
              "    </script>\n",
              "  </div>\n",
              "\n",
              "\n",
              "<div id=\"df-8b97b295-37d5-47aa-ae06-c79a9d22d355\">\n",
              "  <button class=\"colab-df-quickchart\" onclick=\"quickchart('df-8b97b295-37d5-47aa-ae06-c79a9d22d355')\"\n",
              "            title=\"Suggest charts\"\n",
              "            style=\"display:none;\">\n",
              "\n",
              "<svg xmlns=\"http://www.w3.org/2000/svg\" height=\"24px\"viewBox=\"0 0 24 24\"\n",
              "     width=\"24px\">\n",
              "    <g>\n",
              "        <path d=\"M19 3H5c-1.1 0-2 .9-2 2v14c0 1.1.9 2 2 2h14c1.1 0 2-.9 2-2V5c0-1.1-.9-2-2-2zM9 17H7v-7h2v7zm4 0h-2V7h2v10zm4 0h-2v-4h2v4z\"/>\n",
              "    </g>\n",
              "</svg>\n",
              "  </button>\n",
              "\n",
              "<style>\n",
              "  .colab-df-quickchart {\n",
              "      --bg-color: #E8F0FE;\n",
              "      --fill-color: #1967D2;\n",
              "      --hover-bg-color: #E2EBFA;\n",
              "      --hover-fill-color: #174EA6;\n",
              "      --disabled-fill-color: #AAA;\n",
              "      --disabled-bg-color: #DDD;\n",
              "  }\n",
              "\n",
              "  [theme=dark] .colab-df-quickchart {\n",
              "      --bg-color: #3B4455;\n",
              "      --fill-color: #D2E3FC;\n",
              "      --hover-bg-color: #434B5C;\n",
              "      --hover-fill-color: #FFFFFF;\n",
              "      --disabled-bg-color: #3B4455;\n",
              "      --disabled-fill-color: #666;\n",
              "  }\n",
              "\n",
              "  .colab-df-quickchart {\n",
              "    background-color: var(--bg-color);\n",
              "    border: none;\n",
              "    border-radius: 50%;\n",
              "    cursor: pointer;\n",
              "    display: none;\n",
              "    fill: var(--fill-color);\n",
              "    height: 32px;\n",
              "    padding: 0;\n",
              "    width: 32px;\n",
              "  }\n",
              "\n",
              "  .colab-df-quickchart:hover {\n",
              "    background-color: var(--hover-bg-color);\n",
              "    box-shadow: 0 1px 2px rgba(60, 64, 67, 0.3), 0 1px 3px 1px rgba(60, 64, 67, 0.15);\n",
              "    fill: var(--button-hover-fill-color);\n",
              "  }\n",
              "\n",
              "  .colab-df-quickchart-complete:disabled,\n",
              "  .colab-df-quickchart-complete:disabled:hover {\n",
              "    background-color: var(--disabled-bg-color);\n",
              "    fill: var(--disabled-fill-color);\n",
              "    box-shadow: none;\n",
              "  }\n",
              "\n",
              "  .colab-df-spinner {\n",
              "    border: 2px solid var(--fill-color);\n",
              "    border-color: transparent;\n",
              "    border-bottom-color: var(--fill-color);\n",
              "    animation:\n",
              "      spin 1s steps(1) infinite;\n",
              "  }\n",
              "\n",
              "  @keyframes spin {\n",
              "    0% {\n",
              "      border-color: transparent;\n",
              "      border-bottom-color: var(--fill-color);\n",
              "      border-left-color: var(--fill-color);\n",
              "    }\n",
              "    20% {\n",
              "      border-color: transparent;\n",
              "      border-left-color: var(--fill-color);\n",
              "      border-top-color: var(--fill-color);\n",
              "    }\n",
              "    30% {\n",
              "      border-color: transparent;\n",
              "      border-left-color: var(--fill-color);\n",
              "      border-top-color: var(--fill-color);\n",
              "      border-right-color: var(--fill-color);\n",
              "    }\n",
              "    40% {\n",
              "      border-color: transparent;\n",
              "      border-right-color: var(--fill-color);\n",
              "      border-top-color: var(--fill-color);\n",
              "    }\n",
              "    60% {\n",
              "      border-color: transparent;\n",
              "      border-right-color: var(--fill-color);\n",
              "    }\n",
              "    80% {\n",
              "      border-color: transparent;\n",
              "      border-right-color: var(--fill-color);\n",
              "      border-bottom-color: var(--fill-color);\n",
              "    }\n",
              "    90% {\n",
              "      border-color: transparent;\n",
              "      border-bottom-color: var(--fill-color);\n",
              "    }\n",
              "  }\n",
              "</style>\n",
              "\n",
              "  <script>\n",
              "    async function quickchart(key) {\n",
              "      const quickchartButtonEl =\n",
              "        document.querySelector('#' + key + ' button');\n",
              "      quickchartButtonEl.disabled = true;  // To prevent multiple clicks.\n",
              "      quickchartButtonEl.classList.add('colab-df-spinner');\n",
              "      try {\n",
              "        const charts = await google.colab.kernel.invokeFunction(\n",
              "            'suggestCharts', [key], {});\n",
              "      } catch (error) {\n",
              "        console.error('Error during call to suggestCharts:', error);\n",
              "      }\n",
              "      quickchartButtonEl.classList.remove('colab-df-spinner');\n",
              "      quickchartButtonEl.classList.add('colab-df-quickchart-complete');\n",
              "    }\n",
              "    (() => {\n",
              "      let quickchartButtonEl =\n",
              "        document.querySelector('#df-8b97b295-37d5-47aa-ae06-c79a9d22d355 button');\n",
              "      quickchartButtonEl.style.display =\n",
              "        google.colab.kernel.accessAllowed ? 'block' : 'none';\n",
              "    })();\n",
              "  </script>\n",
              "</div>\n",
              "\n",
              "  <div id=\"id_aee3169d-505a-470e-8ee6-b9cb25103f8b\">\n",
              "    <style>\n",
              "      .colab-df-generate {\n",
              "        background-color: #E8F0FE;\n",
              "        border: none;\n",
              "        border-radius: 50%;\n",
              "        cursor: pointer;\n",
              "        display: none;\n",
              "        fill: #1967D2;\n",
              "        height: 32px;\n",
              "        padding: 0 0 0 0;\n",
              "        width: 32px;\n",
              "      }\n",
              "\n",
              "      .colab-df-generate:hover {\n",
              "        background-color: #E2EBFA;\n",
              "        box-shadow: 0px 1px 2px rgba(60, 64, 67, 0.3), 0px 1px 3px 1px rgba(60, 64, 67, 0.15);\n",
              "        fill: #174EA6;\n",
              "      }\n",
              "\n",
              "      [theme=dark] .colab-df-generate {\n",
              "        background-color: #3B4455;\n",
              "        fill: #D2E3FC;\n",
              "      }\n",
              "\n",
              "      [theme=dark] .colab-df-generate:hover {\n",
              "        background-color: #434B5C;\n",
              "        box-shadow: 0px 1px 3px 1px rgba(0, 0, 0, 0.15);\n",
              "        filter: drop-shadow(0px 1px 2px rgba(0, 0, 0, 0.3));\n",
              "        fill: #FFFFFF;\n",
              "      }\n",
              "    </style>\n",
              "    <button class=\"colab-df-generate\" onclick=\"generateWithVariable('sp500_df')\"\n",
              "            title=\"Generate code using this dataframe.\"\n",
              "            style=\"display:none;\">\n",
              "\n",
              "  <svg xmlns=\"http://www.w3.org/2000/svg\" height=\"24px\"viewBox=\"0 0 24 24\"\n",
              "       width=\"24px\">\n",
              "    <path d=\"M7,19H8.4L18.45,9,17,7.55,7,17.6ZM5,21V16.75L18.45,3.32a2,2,0,0,1,2.83,0l1.4,1.43a1.91,1.91,0,0,1,.58,1.4,1.91,1.91,0,0,1-.58,1.4L9.25,21ZM18.45,9,17,7.55Zm-12,3A5.31,5.31,0,0,0,4.9,8.1,5.31,5.31,0,0,0,1,6.5,5.31,5.31,0,0,0,4.9,4.9,5.31,5.31,0,0,0,6.5,1,5.31,5.31,0,0,0,8.1,4.9,5.31,5.31,0,0,0,12,6.5,5.46,5.46,0,0,0,6.5,12Z\"/>\n",
              "  </svg>\n",
              "    </button>\n",
              "    <script>\n",
              "      (() => {\n",
              "      const buttonEl =\n",
              "        document.querySelector('#id_aee3169d-505a-470e-8ee6-b9cb25103f8b button.colab-df-generate');\n",
              "      buttonEl.style.display =\n",
              "        google.colab.kernel.accessAllowed ? 'block' : 'none';\n",
              "\n",
              "      buttonEl.onclick = () => {\n",
              "        google.colab.notebook.generateWithVariable('sp500_df');\n",
              "      }\n",
              "      })();\n",
              "    </script>\n",
              "  </div>\n",
              "\n",
              "    </div>\n",
              "  </div>\n"
            ],
            "text/plain": [
              "            sp500\n",
              "0     1295.500000\n",
              "1     1289.089966\n",
              "2     1293.670044\n",
              "3     1308.040039\n",
              "4     1314.500000\n",
              "...           ...\n",
              "2154  3327.770020\n",
              "2155  3349.159912\n",
              "2156  3351.280029\n",
              "2157  3360.469971\n",
              "2158  3333.689941\n",
              "\n",
              "[2159 rows x 1 columns]"
            ]
          },
          "execution_count": 23,
          "metadata": {},
          "output_type": "execute_result"
        }
      ],
      "source": [
        "# squeeze(False) 옵션으로 DataFrame 생성\n",
        "# 출력결과 데이터가 포멧팅되어 정렬후 출력되는것을 알 수 있음.\n",
        "# 또한 출력된 정보를 내가 보고싶은정보로 수정하거나 정렬할 수 잇음.\n",
        "# 각각의 셀에 컬러링도 된것을 볼 수 있음\n",
        "sp500_df = pd.read_csv('S_P500_Prices.csv').squeeze(False)\n",
        "sp500_df"
      ]
    },
    {
      "cell_type": "code",
      "execution_count": 7,
      "metadata": {
        "colab": {
          "base_uri": "https://localhost:8080/"
        },
        "id": "kyWLDMn2gf4A",
        "outputId": "facc56aa-d911-460d-9cbc-046603dd4750"
      },
      "outputs": [
        {
          "name": "stdout",
          "output_type": "stream",
          "text": [
            "<class 'pandas.core.series.Series'>\n"
          ]
        }
      ],
      "source": [
        "# sp500 의 DataType은 Series\n",
        "print(type(sp500))"
      ]
    },
    {
      "cell_type": "code",
      "execution_count": 8,
      "metadata": {
        "colab": {
          "base_uri": "https://localhost:8080/"
        },
        "id": "JVPqJfA2QzkM",
        "outputId": "47a61543-85cc-4725-f861-b02c70554db1"
      },
      "outputs": [
        {
          "name": "stdout",
          "output_type": "stream",
          "text": [
            "<class 'pandas.core.frame.DataFrame'>\n"
          ]
        }
      ],
      "source": [
        "print(type(sp500_df))"
      ]
    },
    {
      "cell_type": "markdown",
      "metadata": {
        "id": "V1mmNeolRNry"
      },
      "source": [
        "# Pandas 빌트인(내부) 함수\n",
        "Python 함수로도 Pandas는 잘 작동함.\n",
        "\n",
        "따라서 Python 함수를 통해서 Pandas를 사용하는것 또한 가능하고 , 잘 작동한다."
      ]
    },
    {
      "cell_type": "code",
      "execution_count": 11,
      "metadata": {
        "colab": {
          "base_uri": "https://localhost:8080/"
        },
        "id": "D_ISeWwnRrkD",
        "outputId": "92b2f992-fdc5-4351-8ead-78cf8d1af0dc"
      },
      "outputs": [
        {
          "data": {
            "text/plain": [
              "0       1295.500000\n",
              "1       1289.089966\n",
              "2       1293.670044\n",
              "3       1308.040039\n",
              "4       1314.500000\n",
              "           ...     \n",
              "2154    3327.770020\n",
              "2155    3349.159912\n",
              "2156    3351.280029\n",
              "2157    3360.469971\n",
              "2158    3333.689941\n",
              "Name: sp500, Length: 2159, dtype: float64"
            ]
          },
          "execution_count": 11,
          "metadata": {},
          "output_type": "execute_result"
        }
      ],
      "source": [
        "sp500 = pd.read_csv('S_P500_Prices.csv').squeeze(True)\n",
        "sp500\n"
      ]
    },
    {
      "cell_type": "code",
      "execution_count": 12,
      "metadata": {
        "colab": {
          "base_uri": "https://localhost:8080/"
        },
        "id": "DuesNFl7R48P",
        "outputId": "de6ce873-3310-4212-9759-b55fdc263310"
      },
      "outputs": [
        {
          "name": "stdout",
          "output_type": "stream",
          "text": [
            "<class 'pandas.core.series.Series'>\n"
          ]
        }
      ],
      "source": [
        "# Pandas Series의 타입\n",
        "print(type(sp500))"
      ]
    },
    {
      "cell_type": "code",
      "execution_count": 13,
      "metadata": {
        "colab": {
          "base_uri": "https://localhost:8080/"
        },
        "id": "TpjfhGzgSCHf",
        "outputId": "16c89f98-510b-4b7c-8b5b-2a8a6f33ce83"
      },
      "outputs": [
        {
          "name": "stdout",
          "output_type": "stream",
          "text": [
            "2159\n"
          ]
        }
      ],
      "source": [
        "# Pandas Series의 길이,\n",
        "# Series가 0부터 시작하여 2158로 끝남\n",
        "print(len(sp500))"
      ]
    },
    {
      "cell_type": "code",
      "execution_count": 14,
      "metadata": {
        "colab": {
          "base_uri": "https://localhost:8080/"
        },
        "id": "wPLudJhgSHKL",
        "outputId": "de7aff33-376a-4800-f871-58ea7d4d8f13"
      },
      "outputs": [
        {
          "name": "stdout",
          "output_type": "stream",
          "text": [
            "3386.149902\n"
          ]
        }
      ],
      "source": [
        "# Pandas 데이터(value) 범위 중 최댓값,\n",
        "print(max(sp500))"
      ]
    },
    {
      "cell_type": "code",
      "execution_count": 15,
      "metadata": {
        "colab": {
          "base_uri": "https://localhost:8080/"
        },
        "id": "UAebq3AeSPMW",
        "outputId": "c816cc1f-c8c9-4af0-bb23-4868502af461"
      },
      "outputs": [
        {
          "name": "stdout",
          "output_type": "stream",
          "text": [
            "1278.040039\n"
          ]
        }
      ],
      "source": [
        "# Pandas 데이터(value) 범위 중 최솟값\n",
        "print(min(sp500))"
      ]
    },
    {
      "cell_type": "code",
      "execution_count": 39,
      "metadata": {
        "colab": {
          "base_uri": "https://localhost:8080/"
        },
        "id": "C2frwOMRSWpD",
        "outputId": "8ede0e29-7368-466f-97ab-13a1684e5cb1"
      },
      "outputs": [
        {
          "data": {
            "text/plain": [
              "{10, 30, 50, 100}"
            ]
          },
          "execution_count": 39,
          "metadata": {},
          "output_type": "execute_result"
        }
      ],
      "source": [
        "my_series = pd.Series(data=[-10,100,-30,50,100])\n",
        "\n",
        "# 음수값 양수 전환\n",
        "abs(my_series)\n",
        "\n",
        "# 중복제거\n",
        "set(abs(my_series))"
      ]
    },
    {
      "cell_type": "markdown",
      "metadata": {
        "id": "z5W_AChuVpqk"
      },
      "source": [
        "# Pandas Series 정렬(Sort)\n",
        "Pandas Index를 정렬하는 방법들\n"
      ]
    },
    {
      "cell_type": "code",
      "execution_count": 42,
      "metadata": {
        "colab": {
          "base_uri": "https://localhost:8080/"
        },
        "id": "hRpOPj76Vvxl",
        "outputId": "f9210e51-d31f-40a1-f75d-1e79bf32b120"
      },
      "outputs": [
        {
          "data": {
            "text/plain": [
              "0       1295.500000\n",
              "1       1289.089966\n",
              "2       1293.670044\n",
              "3       1308.040039\n",
              "4       1314.500000\n",
              "           ...     \n",
              "2154    3327.770020\n",
              "2155    3349.159912\n",
              "2156    3351.280029\n",
              "2157    3360.469971\n",
              "2158    3333.689941\n",
              "Name: sp500, Length: 2159, dtype: float64"
            ]
          },
          "execution_count": 42,
          "metadata": {},
          "output_type": "execute_result"
        }
      ],
      "source": [
        "# 테스트를 위한 csv 파일 불러오기.\n",
        "sp500 = pd.read_csv('S_P500_Prices.csv').squeeze(True)\n",
        "sp500"
      ]
    },
    {
      "cell_type": "code",
      "execution_count": 51,
      "metadata": {
        "colab": {
          "base_uri": "https://localhost:8080/"
        },
        "id": "VIGrQrZXV2aK",
        "outputId": "4405308c-dde7-4e63-98f4-47ffe84a66e4"
      },
      "outputs": [
        {
          "data": {
            "text/plain": [
              "97      1278.040039\n",
              "98      1278.180054\n",
              "99      1285.500000\n",
              "1       1289.089966\n",
              "2       1293.670044\n",
              "           ...     \n",
              "2038    3373.229980\n",
              "2034    3373.939941\n",
              "2033    3379.449951\n",
              "2035    3380.159912\n",
              "2037    3386.149902\n",
              "Name: sp500, Length: 2159, dtype: float64"
            ]
          },
          "execution_count": 51,
          "metadata": {},
          "output_type": "execute_result"
        }
      ],
      "source": [
        "# value 기준으로 최솟값부터 최댓값으로 정렬된것을 확인할 수 있음.\n",
        "sp500.sort_values()"
      ]
    },
    {
      "cell_type": "code",
      "execution_count": 47,
      "metadata": {
        "colab": {
          "base_uri": "https://localhost:8080/"
        },
        "id": "5rgVRAqIWE6t",
        "outputId": "fe2ffcdd-fba5-45aa-f765-64da8eeb57a4"
      },
      "outputs": [
        {
          "data": {
            "text/plain": [
              "0       1295.500000\n",
              "1       1289.089966\n",
              "2       1293.670044\n",
              "3       1308.040039\n",
              "4       1314.500000\n",
              "           ...     \n",
              "2154    3327.770020\n",
              "2155    3349.159912\n",
              "2156    3351.280029\n",
              "2157    3360.469971\n",
              "2158    3333.689941\n",
              "Name: sp500, Length: 2159, dtype: float64"
            ]
          },
          "execution_count": 47,
          "metadata": {},
          "output_type": "execute_result"
        }
      ],
      "source": [
        "# 바로 위에서 sp500 Series를 Sort 처리했는데, 정렬이 안된것을 확인할 수 있음.\n",
        "# 이유는 실제로 Pandas 메모리에 정렬된 결과가 저장되지 않았기 때문임.\n",
        "# Pandas 메모리에 Sort된 결과를 남기고 싶다면, sort_value() or sort_index() 메서드 파라미터에 (inplace = True) 를 넣어주어야 함.\n",
        "# sp501 Series를 생성한 뒤 , inplace=True 옵션으로 정렬결과를 메모리에 저장함.\n",
        "sp500"
      ]
    },
    {
      "cell_type": "code",
      "execution_count": 58,
      "metadata": {
        "colab": {
          "base_uri": "https://localhost:8080/"
        },
        "id": "fVRkdTVbWSyH",
        "outputId": "9b2f5705-7f4c-4d75-8222-dee0e992e2d3"
      },
      "outputs": [
        {
          "data": {
            "text/plain": [
              "0       1295.500000\n",
              "1       1289.089966\n",
              "2       1293.670044\n",
              "3       1308.040039\n",
              "4       1314.500000\n",
              "           ...     \n",
              "2154    3327.770020\n",
              "2155    3349.159912\n",
              "2156    3351.280029\n",
              "2157    3360.469971\n",
              "2158    3333.689941\n",
              "Name: sp500, Length: 2159, dtype: float64"
            ]
          },
          "execution_count": 58,
          "metadata": {},
          "output_type": "execute_result"
        }
      ],
      "source": [
        "sp501 = sp500.copy()\n",
        "sp501"
      ]
    },
    {
      "cell_type": "code",
      "execution_count": 61,
      "metadata": {
        "colab": {
          "base_uri": "https://localhost:8080/"
        },
        "id": "Azmi_WusWoav",
        "outputId": "acbd25bc-96fc-4a06-a1fb-3e0232390ece"
      },
      "outputs": [
        {
          "data": {
            "text/plain": [
              "97      1278.040039\n",
              "98      1278.180054\n",
              "99      1285.500000\n",
              "1       1289.089966\n",
              "2       1293.670044\n",
              "           ...     \n",
              "2038    3373.229980\n",
              "2034    3373.939941\n",
              "2033    3379.449951\n",
              "2035    3380.159912\n",
              "2037    3386.149902\n",
              "Name: sp500, Length: 2159, dtype: float64"
            ]
          },
          "execution_count": 61,
          "metadata": {},
          "output_type": "execute_result"
        }
      ],
      "source": [
        "sp501.sort_values(inplace=True)\n",
        "sp501"
      ]
    },
    {
      "cell_type": "code",
      "execution_count": 60,
      "metadata": {
        "colab": {
          "base_uri": "https://localhost:8080/"
        },
        "id": "rSnkJHkjXqCL",
        "outputId": "e72f0423-6b2d-4ffc-cf1b-49d3f833abd8"
      },
      "outputs": [
        {
          "data": {
            "text/plain": [
              "97      1278.040039\n",
              "98      1278.180054\n",
              "99      1285.500000\n",
              "1       1289.089966\n",
              "2       1293.670044\n",
              "           ...     \n",
              "2038    3373.229980\n",
              "2034    3373.939941\n",
              "2033    3379.449951\n",
              "2035    3380.159912\n",
              "2037    3386.149902\n",
              "Name: sp500, Length: 2159, dtype: float64"
            ]
          },
          "execution_count": 60,
          "metadata": {},
          "output_type": "execute_result"
        }
      ],
      "source": [
        "sp501"
      ]
    },
    {
      "cell_type": "code",
      "execution_count": 64,
      "metadata": {
        "colab": {
          "base_uri": "https://localhost:8080/"
        },
        "id": "D7Lj2Zl6XuWT",
        "outputId": "9ec24f82-da10-408f-abf8-f5a0860aa1fa"
      },
      "outputs": [
        {
          "data": {
            "text/plain": [
              "0       1295.500000\n",
              "1       1289.089966\n",
              "2       1293.670044\n",
              "3       1308.040039\n",
              "4       1314.500000\n",
              "           ...     \n",
              "2154    3327.770020\n",
              "2155    3349.159912\n",
              "2156    3351.280029\n",
              "2157    3360.469971\n",
              "2158    3333.689941\n",
              "Name: sp500, Length: 2159, dtype: float64"
            ]
          },
          "execution_count": 64,
          "metadata": {},
          "output_type": "execute_result"
        }
      ],
      "source": [
        "# sort_index() 메서드로 인덱스 기준 최솟값부터 최댓값까지 정렬된것을 볼 수 잇음.\n",
        "sp500.sort_index(inplace=True)\n",
        "sp500"
      ]
    },
    {
      "cell_type": "code",
      "execution_count": 81,
      "metadata": {
        "colab": {
          "base_uri": "https://localhost:8080/"
        },
        "id": "IqTKWA8pX51K",
        "outputId": "b1dc1f11-f132-4781-c744-eec1306ac85c"
      },
      "outputs": [
        {
          "data": {
            "text/plain": [
              "2037    3386.149902\n",
              "2035    3380.159912\n",
              "2033    3379.449951\n",
              "2034    3373.939941\n",
              "2038    3373.229980\n",
              "           ...     \n",
              "2       1293.670044\n",
              "1       1289.089966\n",
              "99      1285.500000\n",
              "98      1278.180054\n",
              "97      1278.040039\n",
              "Name: sp500, Length: 2159, dtype: float64"
            ]
          },
          "execution_count": 81,
          "metadata": {},
          "output_type": "execute_result"
        }
      ],
      "source": [
        "sp502 = pd.read_csv('S_P500_Prices.csv').squeeze(True)\n",
        "sp503 = sp502.copy()\n",
        "sp503.sort_values(inplace=True, ascending=False)\n",
        "sp503"
      ]
    },
    {
      "cell_type": "markdown",
      "metadata": {
        "id": "tx6MAXynaALq"
      },
      "source": [
        "# Pandas Series에서 수학 연산하기\n",
        "산술 연산을 위한 Pandas 메서드 정리"
      ]
    },
    {
      "cell_type": "code",
      "execution_count": 84,
      "metadata": {
        "colab": {
          "base_uri": "https://localhost:8080/"
        },
        "id": "TNEv8nUHabLU",
        "outputId": "293b5d1b-0d74-4a6d-bb95-ba86b09cffcc"
      },
      "outputs": [
        {
          "data": {
            "text/plain": [
              "0       1295.500000\n",
              "1       1289.089966\n",
              "2       1293.670044\n",
              "3       1308.040039\n",
              "4       1314.500000\n",
              "           ...     \n",
              "2154    3327.770020\n",
              "2155    3349.159912\n",
              "2156    3351.280029\n",
              "2157    3360.469971\n",
              "2158    3333.689941\n",
              "Name: sp500, Length: 2159, dtype: float64"
            ]
          },
          "execution_count": 84,
          "metadata": {},
          "output_type": "execute_result"
        }
      ],
      "source": [
        "# 테스트용 csv import\n",
        "sp500 = pd.read_csv('S_P500_Prices.csv').squeeze(True)\n",
        "sp500"
      ]
    },
    {
      "cell_type": "code",
      "execution_count": 85,
      "metadata": {
        "colab": {
          "base_uri": "https://localhost:8080/"
        },
        "id": "ZCQeEp4kau1O",
        "outputId": "c1668428-5647-439c-d9d1-cd00e75f87cf"
      },
      "outputs": [
        {
          "data": {
            "text/plain": [
              "4790280.287214"
            ]
          },
          "execution_count": 85,
          "metadata": {},
          "output_type": "execute_result"
        }
      ],
      "source": [
        "# 모든 Value들의 합을 구하기\n",
        "sp500.sum()"
      ]
    },
    {
      "cell_type": "code",
      "execution_count": 86,
      "metadata": {
        "colab": {
          "base_uri": "https://localhost:8080/"
        },
        "id": "s_v_tXnVa2Vz",
        "outputId": "167c6af5-ecfb-4488-9326-8a99f2abddba"
      },
      "outputs": [
        {
          "data": {
            "text/plain": [
              "2159"
            ]
          },
          "execution_count": 86,
          "metadata": {},
          "output_type": "execute_result"
        }
      ],
      "source": [
        "# 모든 value들의 수를 구하기\n",
        "sp500.count()\n"
      ]
    },
    {
      "cell_type": "code",
      "execution_count": 87,
      "metadata": {
        "colab": {
          "base_uri": "https://localhost:8080/"
        },
        "id": "kx5yfcgQa7FS",
        "outputId": "c0735dfc-daba-4e44-e48c-1d2d8bc53fcd"
      },
      "outputs": [
        {
          "data": {
            "text/plain": [
              "3386.149902"
            ]
          },
          "execution_count": 87,
          "metadata": {},
          "output_type": "execute_result"
        }
      ],
      "source": [
        "# 모든 value들중 최댓값 구하기\n",
        "sp500.max()"
      ]
    },
    {
      "cell_type": "code",
      "execution_count": 89,
      "metadata": {
        "colab": {
          "base_uri": "https://localhost:8080/"
        },
        "id": "w_KLLkzLa9ti",
        "outputId": "60f12505-3e65-4098-c298-03c5bbb178c6"
      },
      "outputs": [
        {
          "data": {
            "text/plain": [
              "1278.040039"
            ]
          },
          "execution_count": 89,
          "metadata": {},
          "output_type": "execute_result"
        }
      ],
      "source": [
        "# 모든 value들중 최솟값 구하기\n",
        "sp500.min()"
      ]
    },
    {
      "cell_type": "code",
      "execution_count": 90,
      "metadata": {
        "colab": {
          "base_uri": "https://localhost:8080/"
        },
        "id": "kldgHKEcbBU2",
        "outputId": "b2d48471-1a1b-4fda-d071-0e4dfdb1a653"
      },
      "outputs": [
        {
          "data": {
            "text/plain": [
              "count    2159.000000\n",
              "mean     2218.749554\n",
              "std       537.321727\n",
              "min      1278.040039\n",
              "25%      1847.984985\n",
              "50%      2106.629883\n",
              "75%      2705.810059\n",
              "max      3386.149902\n",
              "Name: sp500, dtype: float64"
            ]
          },
          "execution_count": 90,
          "metadata": {},
          "output_type": "execute_result"
        }
      ],
      "source": [
        "# 해당 Sereis의 전반적인 정보 확인하기. 새로운 데이터셋을 봤을때 사용하면 유용함.\n",
        "# 출력정보는 다음과 같음\n",
        "# 1. count , 2. 평균(mean) , 3. std (표준편차) , 3. min (최솟값) , 4. max (최댓값) , 25% , 50%, 70% 에 있는 값\n",
        "sp500.describe()"
      ]
    },
    {
      "cell_type": "code",
      "execution_count": 91,
      "metadata": {
        "colab": {
          "base_uri": "https://localhost:8080/"
        },
        "id": "E0LajpKIbEtC",
        "outputId": "91832be0-7588-487f-fcd0-d8e2c53e227d"
      },
      "outputs": [
        {
          "name": "stdout",
          "output_type": "stream",
          "text": [
            "2218.7495540592868\n"
          ]
        }
      ],
      "source": [
        "# 평균 구하기\n",
        "aver = sp500.sum() / sp500.count()\n",
        "print(aver)"
      ]
    },
    {
      "cell_type": "markdown",
      "metadata": {
        "id": "6RgYkaCpcfFa"
      },
      "source": [
        "# Pandas Series에서 값이 존재하는지 여부를 체크\n",
        "Pandas Series에서 if문을 사용한것 처럼 값이 있는지 여부를 체크하는 방안"
      ]
    },
    {
      "cell_type": "code",
      "execution_count": 92,
      "metadata": {
        "id": "j_-WindBcorP"
      },
      "outputs": [],
      "source": [
        "# 테스트용 csv파일 import\n",
        "sp500 = pd.read_csv('S_P500_Prices.csv').squeeze(True)"
      ]
    },
    {
      "cell_type": "code",
      "execution_count": 93,
      "metadata": {
        "colab": {
          "base_uri": "https://localhost:8080/"
        },
        "id": "mjqf_GDFcvjT",
        "outputId": "471734c1-2615-4577-84cd-975f6077fbc7"
      },
      "outputs": [
        {
          "data": {
            "text/plain": [
              "True"
            ]
          },
          "execution_count": 93,
          "metadata": {},
          "output_type": "execute_result"
        }
      ],
      "source": [
        "# value에 1295.500000 가 있는지 확인하는 방법,\n",
        "# 아래 명령문은, Bool 형태로 return 받을 수 있음\n",
        "# {조건값} in {Series_name}.values 구문 사용\n",
        "1295.500000 in sp500.values"
      ]
    },
    {
      "cell_type": "code",
      "execution_count": 95,
      "metadata": {
        "colab": {
          "base_uri": "https://localhost:8080/"
        },
        "id": "nev0wrT_c6ku",
        "outputId": "b123b543-2a4e-461a-9095-3d901db4eb76"
      },
      "outputs": [
        {
          "data": {
            "text/plain": [
              "False"
            ]
          },
          "execution_count": 95,
          "metadata": {},
          "output_type": "execute_result"
        }
      ],
      "source": [
        "# index에 해당 값이 있는지 확인하는것 또한 가능함.\n",
        "1295.500000 in sp500.index"
      ]
    },
    {
      "cell_type": "code",
      "execution_count": 97,
      "metadata": {
        "colab": {
          "base_uri": "https://localhost:8080/"
        },
        "id": "gRq5GxKkdDwi",
        "outputId": "72f416ae-6c2e-4303-bd9a-4000a816d5c2"
      },
      "outputs": [
        {
          "data": {
            "text/plain": [
              "False"
            ]
          },
          "execution_count": 97,
          "metadata": {},
          "output_type": "execute_result"
        }
      ],
      "source": [
        "# in 구문은 기본적으로 값이 아닌 index를 기준으로 판단함.\n",
        "# 기본적으로 values나 index를 넣어주지 않고 Series 이름만 넣는다면, index를 기준으로 찾음.\n",
        "1295.500000 in sp500"
      ]
    },
    {
      "cell_type": "code",
      "execution_count": 104,
      "metadata": {
        "colab": {
          "base_uri": "https://localhost:8080/"
        },
        "id": "ay6N80ITdOQl",
        "outputId": "5ffca1be-26eb-4c57-af62-2dd65e4dad8d"
      },
      "outputs": [
        {
          "data": {
            "text/plain": [
              "False"
            ]
          },
          "execution_count": 104,
          "metadata": {},
          "output_type": "execute_result"
        }
      ],
      "source": [
        "3349 in sp500.values"
      ]
    },
    {
      "cell_type": "code",
      "execution_count": 103,
      "metadata": {
        "colab": {
          "base_uri": "https://localhost:8080/"
        },
        "id": "LRrPZu7CdaAC",
        "outputId": "d7b5efc1-afcf-4feb-8d0d-1c9241354657"
      },
      "outputs": [
        {
          "data": {
            "text/plain": [
              "True"
            ]
          },
          "execution_count": 103,
          "metadata": {},
          "output_type": "execute_result"
        }
      ],
      "source": [
        "# sp500 Series를 반올림하여 3349 값이 있는지 search\n",
        "3349 in sp500.values.round()"
      ]
    },
    {
      "cell_type": "markdown",
      "metadata": {
        "id": "GGwEIhllgsvg"
      },
      "source": [
        "# Pandas Series에 Indexing 하는 방법\n",
        "Pandas Series에 인덱싱을 진행하는 방안에 대해 기술합니다."
      ]
    },
    {
      "cell_type": "code",
      "execution_count": 105,
      "metadata": {
        "colab": {
          "base_uri": "https://localhost:8080/"
        },
        "id": "1lSfyFybh14m",
        "outputId": "50299591-7dc5-4a78-ae5c-2f2e4b565804"
      },
      "outputs": [
        {
          "data": {
            "text/plain": [
              "0       1295.500000\n",
              "1       1289.089966\n",
              "2       1293.670044\n",
              "3       1308.040039\n",
              "4       1314.500000\n",
              "           ...     \n",
              "2154    3327.770020\n",
              "2155    3349.159912\n",
              "2156    3351.280029\n",
              "2157    3360.469971\n",
              "2158    3333.689941\n",
              "Name: sp500, Length: 2159, dtype: float64"
            ]
          },
          "execution_count": 105,
          "metadata": {},
          "output_type": "execute_result"
        }
      ],
      "source": [
        "# 테스트용 csv import\n",
        "sp500 = pd.read_csv('S_P500_Prices.csv').squeeze(True)\n",
        "sp500"
      ]
    },
    {
      "cell_type": "code",
      "execution_count": 109,
      "metadata": {
        "colab": {
          "base_uri": "https://localhost:8080/"
        },
        "id": "mafVJMf2h35V",
        "outputId": "68ecb543-7407-46cb-ff7b-a286f1c87a52"
      },
      "outputs": [
        {
          "data": {
            "text/plain": [
              "1295.5"
            ]
          },
          "execution_count": 109,
          "metadata": {},
          "output_type": "execute_result"
        }
      ],
      "source": [
        "# Pandas Series value에서 첫번째 요소에 접근하기\n",
        "# index를 이용해서 Pandas Series의 value에 접근할 수 있음.\n",
        "# 마치 Python의 List에서 값에 접근할때처럼 하면 됨.\n",
        "sp500[0]"
      ]
    },
    {
      "cell_type": "code",
      "execution_count": 110,
      "metadata": {
        "colab": {
          "base_uri": "https://localhost:8080/"
        },
        "id": "V-mAYL79iGES",
        "outputId": "7205845a-ad41-411d-c826-9416d0fdd602"
      },
      "outputs": [
        {
          "data": {
            "text/plain": [
              "1308.040039"
            ]
          },
          "execution_count": 110,
          "metadata": {},
          "output_type": "execute_result"
        }
      ],
      "source": [
        "# 4번쨰 요소 접근하기\n",
        "sp500[3]"
      ]
    },
    {
      "cell_type": "code",
      "execution_count": 113,
      "metadata": {
        "colab": {
          "base_uri": "https://localhost:8080/"
        },
        "id": "hjZfT6ZhiZoB",
        "outputId": "ed8ae97e-10c6-418d-d51b-00fc722380f1"
      },
      "outputs": [
        {
          "data": {
            "text/plain": [
              "3333.689941"
            ]
          },
          "execution_count": 113,
          "metadata": {},
          "output_type": "execute_result"
        }
      ],
      "source": [
        "# Pandas Series의 마지막 요소 접근하기\n",
        "sp500[2158]"
      ]
    },
    {
      "cell_type": "code",
      "execution_count": 114,
      "metadata": {
        "colab": {
          "base_uri": "https://localhost:8080/"
        },
        "id": "SSUp07Khifko",
        "outputId": "abf3002e-b97a-4937-c9dd-0ad59609b1d7"
      },
      "outputs": [
        {
          "data": {
            "text/plain": [
              "1314.5"
            ]
          },
          "execution_count": 114,
          "metadata": {},
          "output_type": "execute_result"
        }
      ],
      "source": [
        "# Pandas Series 5번쨰 요소 접근하기\n",
        "sp500[4]"
      ]
    },
    {
      "cell_type": "markdown",
      "metadata": {
        "id": "EnPHLF_hiqZ9"
      },
      "source": [
        "# Pandas Series with Slice\n",
        "python의 slice 사용법을 Pandas Series의 요소에 접근할 때도 똑같이 사용할 수 있습니다.\n",
        "\n",
        "- ```my_series[::-1] , my_series[0:1], my_series[0:5] ...```\n",
        "\n"
      ]
    },
    {
      "cell_type": "code",
      "execution_count": 116,
      "metadata": {
        "colab": {
          "base_uri": "https://localhost:8080/"
        },
        "id": "JnXO_RWGi-c_",
        "outputId": "1d22a720-0cfc-47a3-9e2a-a118b9c338e9"
      },
      "outputs": [
        {
          "data": {
            "text/plain": [
              "0       1295.500000\n",
              "1       1289.089966\n",
              "2       1293.670044\n",
              "3       1308.040039\n",
              "4       1314.500000\n",
              "           ...     \n",
              "2154    3327.770020\n",
              "2155    3349.159912\n",
              "2156    3351.280029\n",
              "2157    3360.469971\n",
              "2158    3333.689941\n",
              "Name: sp500, Length: 2159, dtype: float64"
            ]
          },
          "execution_count": 116,
          "metadata": {},
          "output_type": "execute_result"
        }
      ],
      "source": [
        "sp500 = pd.read_csv('S_P500_Prices.csv').squeeze(True)\n",
        "sp500"
      ]
    },
    {
      "cell_type": "code",
      "execution_count": 121,
      "metadata": {
        "colab": {
          "base_uri": "https://localhost:8080/"
        },
        "id": "LvWAAsVFkH-U",
        "outputId": "92513e3b-d0cb-4f74-c605-6658dc527db0"
      },
      "outputs": [
        {
          "data": {
            "text/plain": [
              "0       1295.500000\n",
              "1       1289.089966\n",
              "2       1293.670044\n",
              "3       1308.040039\n",
              "4       1314.500000\n",
              "           ...     \n",
              "2154    3327.770020\n",
              "2155    3349.159912\n",
              "2156    3351.280029\n",
              "2157    3360.469971\n",
              "2158    3333.689941\n",
              "Name: sp500, Length: 2159, dtype: float64"
            ]
          },
          "execution_count": 121,
          "metadata": {},
          "output_type": "execute_result"
        }
      ],
      "source": [
        "# [:] , : 은 모든것을 출력하라는 의미\n",
        "sp500[:]"
      ]
    },
    {
      "cell_type": "code",
      "execution_count": 119,
      "metadata": {
        "colab": {
          "base_uri": "https://localhost:8080/"
        },
        "id": "6MgevbPqjfbG",
        "outputId": "6af419c5-f49e-40e2-f69e-cb27806d46cc"
      },
      "outputs": [
        {
          "data": {
            "text/plain": [
              "0    1295.500000\n",
              "1    1289.089966\n",
              "2    1293.670044\n",
              "3    1308.040039\n",
              "4    1314.500000\n",
              "Name: sp500, dtype: float64"
            ]
          },
          "execution_count": 119,
          "metadata": {},
          "output_type": "execute_result"
        }
      ],
      "source": [
        "# index 0부터 시작해서 5 전까지 확인하기\n",
        "# 0부터 시작해서 5를 포함하지 않는곳까지 확인 (0 ~ 4)\n",
        "# 0, 1, 2, 3, 4\n",
        "sp500[0:5]"
      ]
    },
    {
      "cell_type": "code",
      "execution_count": 120,
      "metadata": {
        "colab": {
          "base_uri": "https://localhost:8080/"
        },
        "id": "76jZ6J3QjnHM",
        "outputId": "2fd634dd-49ef-45fb-c164-cfaa69a9ee39"
      },
      "outputs": [
        {
          "data": {
            "text/plain": [
              "0    1295.500000\n",
              "1    1289.089966\n",
              "2    1293.670044\n",
              "3    1308.040039\n",
              "4    1314.500000\n",
              "5    1315.380005\n",
              "6    1316.000000\n",
              "7    1314.650024\n",
              "8    1326.060059\n",
              "9    1318.430054\n",
              "Name: sp500, dtype: float64"
            ]
          },
          "execution_count": 120,
          "metadata": {},
          "output_type": "execute_result"
        }
      ],
      "source": [
        "# index 0부터 시작해서 10을 포함하는곳 직전까지 확인\n",
        "sp500[0:10]"
      ]
    },
    {
      "cell_type": "code",
      "execution_count": 122,
      "metadata": {
        "colab": {
          "base_uri": "https://localhost:8080/"
        },
        "id": "8P4LsNbCkE6l",
        "outputId": "381cbaa6-6d20-4c6c-9992-f951e7305287"
      },
      "outputs": [
        {
          "data": {
            "text/plain": [
              "5       1315.380005\n",
              "6       1316.000000\n",
              "7       1314.650024\n",
              "8       1326.060059\n",
              "9       1318.430054\n",
              "           ...     \n",
              "2154    3327.770020\n",
              "2155    3349.159912\n",
              "2156    3351.280029\n",
              "2157    3360.469971\n",
              "2158    3333.689941\n",
              "Name: sp500, Length: 2154, dtype: float64"
            ]
          },
          "execution_count": 122,
          "metadata": {},
          "output_type": "execute_result"
        }
      ],
      "source": [
        "# 5부터 마지막 요소까지 출력하라\n",
        "sp500[5:]"
      ]
    },
    {
      "cell_type": "code",
      "execution_count": 124,
      "metadata": {
        "colab": {
          "base_uri": "https://localhost:8080/"
        },
        "id": "yTsLBhvxkPCy",
        "outputId": "119e41c8-32a6-48b5-b4b2-fd10f7d5b66b"
      },
      "outputs": [
        {
          "data": {
            "text/plain": [
              "5     1315.380005\n",
              "7     1314.650024\n",
              "9     1318.430054\n",
              "11    1313.010010\n",
              "13    1324.089966\n",
              "15    1344.900024\n",
              "17    1347.050049\n",
              "19    1351.949951\n",
              "Name: sp500, dtype: float64"
            ]
          },
          "execution_count": 124,
          "metadata": {},
          "output_type": "execute_result"
        }
      ],
      "source": [
        "# 5부터 20까지 2씩 증가하라\n",
        "sp500[5:21:2]"
      ]
    },
    {
      "cell_type": "code",
      "execution_count": 125,
      "metadata": {
        "colab": {
          "base_uri": "https://localhost:8080/"
        },
        "id": "fkR14OetkVRh",
        "outputId": "f45e0f4d-fa5e-4fa5-f38a-675a5a95db1d"
      },
      "outputs": [
        {
          "data": {
            "text/plain": [
              "20    1342.640015\n",
              "17    1347.050049\n",
              "14    1325.540039\n",
              "11    1313.010010\n",
              "8     1326.060059\n",
              "5     1315.380005\n",
              "Name: sp500, dtype: float64"
            ]
          },
          "execution_count": 125,
          "metadata": {},
          "output_type": "execute_result"
        }
      ],
      "source": [
        "# 20부터 5까지 3씩 감소하라\n",
        "sp500[20:4:-3]"
      ]
    },
    {
      "cell_type": "code",
      "execution_count": 127,
      "metadata": {
        "colab": {
          "base_uri": "https://localhost:8080/"
        },
        "id": "UMaqLEndkc3Z",
        "outputId": "0996d445-ec11-4c0b-cd40-a29dcc4dc151"
      },
      "outputs": [
        {
          "data": {
            "text/plain": [
              "0       1295.500000\n",
              "1       1289.089966\n",
              "2       1293.670044\n",
              "3       1308.040039\n",
              "4       1314.500000\n",
              "           ...     \n",
              "2151    3271.120117\n",
              "2152    3294.610107\n",
              "2153    3306.510010\n",
              "2154    3327.770020\n",
              "2155    3349.159912\n",
              "Name: sp500, Length: 2156, dtype: float64"
            ]
          },
          "execution_count": 127,
          "metadata": {},
          "output_type": "execute_result"
        }
      ],
      "source": [
        "# Pandas Series에서 마지막 3개를 제외하고 모두 출력하라\n",
        "cnt = sp500.count()-3\n",
        "sp500[:cnt]"
      ]
    },
    {
      "cell_type": "code",
      "execution_count": null,
      "metadata": {
        "id": "bZlGakg9kvxy"
      },
      "outputs": [],
      "source": []
    }
  ],
  "metadata": {
    "colab": {
      "provenance": []
    },
    "kernelspec": {
      "display_name": "Python 3",
      "name": "python3"
    },
    "language_info": {
      "name": "python",
      "version": "3.12.2"
    }
  },
  "nbformat": 4,
  "nbformat_minor": 0
}
