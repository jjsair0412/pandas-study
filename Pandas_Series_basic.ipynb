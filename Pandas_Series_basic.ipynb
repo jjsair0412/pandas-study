{
  "cells": [
    {
      "cell_type": "markdown",
      "metadata": {
        "id": "VvalVRcEIRV_"
      },
      "source": [
        "# Pandas Series Repository\n",
        "data 분석을 위한 Pandas 라이브러리에 대해 정리해 두었습니다."
      ]
    },
    {
      "cell_type": "markdown",
      "metadata": {
        "id": "C27_VZHxI2-L"
      },
      "source": [
        "Pandas는 numpy라는 데이터 조작 분석 툴로 데이터프레임이라 하는 데이터 구조를 사용함.\n",
        "\n",
        "Pandas를 python의 엑셀이라 보면 됨.\n",
        "\n",
        "테이블형식 데이터를 매우 쉽게 처리가 가능함.\n",
        "- 행, 열을 활용하거나 데이터를 저장할 수 있음.\n",
        "\n",
        "**Pandas Series 는 데이터 프레임의 열을 일컫는 표현**\n",
        "- Pandas Series는 열이 하나밖에 없음\n",
        "\n",
        "**DataFrame 이란 다차원 테이블 데이터**"
      ]
    },
    {
      "cell_type": "code",
      "execution_count": 1,
      "metadata": {
        "id": "lou2DOOaJu-5"
      },
      "outputs": [],
      "source": [
        "import pandas as pd # pandas 사용하기 위해 import"
      ]
    },
    {
      "cell_type": "markdown",
      "metadata": {
        "id": "gg0HKaIPJ6uL"
      },
      "source": [
        "Python List를 정의하여 , 해당 List에 5개의 stock을 정의\n",
        "- stock 명시코드 NVDA , **MSFT** , **FB** , **AMZN** , **BA** 로 정의"
      ]
    },
    {
      "cell_type": "code",
      "execution_count": null,
      "metadata": {
        "colab": {
          "base_uri": "https://localhost:8080/"
        },
        "id": "ycWR5HfsKA4q",
        "outputId": "7a59bfa7-e8e1-4fe3-ce01-92f21baa8b87"
      },
      "outputs": [
        {
          "data": {
            "text/plain": [
              "['NVDA', 'MSFT', 'FB', 'AMZN', 'BA']"
            ]
          },
          "execution_count": 3,
          "metadata": {},
          "output_type": "execute_result"
        }
      ],
      "source": [
        "my_list = ['NVDA', 'MSFT', 'FB', 'AMZN', 'BA']\n",
        "my_list # print list"
      ]
    },
    {
      "cell_type": "code",
      "execution_count": null,
      "metadata": {
        "colab": {
          "base_uri": "https://localhost:8080/"
        },
        "id": "abneDxC9Kj9C",
        "outputId": "58073b26-2109-4a12-b72e-edc1811a7521"
      },
      "outputs": [
        {
          "data": {
            "text/plain": [
              "list"
            ]
          },
          "execution_count": 4,
          "metadata": {},
          "output_type": "execute_result"
        }
      ],
      "source": [
        "type(my_list) # list datatype check"
      ]
    },
    {
      "cell_type": "markdown",
      "metadata": {
        "id": "aLf5Q_T3KpNd"
      },
      "source": [
        "정의한 my_list 를 1차원 Pandas Series로 생성\n",
        "\n",
        "출력결과 **List 좌측에 숫자형 인덱스가 자동으로 생성**된것을 확인할 수 있음.\n",
        "\n",
        "***시리즈는 데이터, 그리고 연관된 인덱스***로 만들어짐.\n",
        "- 숫자형 인덱스는 좌측에 자동생성됨.\n",
        "\n",
        "또한 dataType 또한 자동으로 표기됨.\n",
        "\n",
        "**object** dataType은 **pandas에서 문자열**이라 생각하면 됨"
      ]
    },
    {
      "cell_type": "code",
      "execution_count": null,
      "metadata": {
        "colab": {
          "base_uri": "https://localhost:8080/"
        },
        "id": "7_fRHcHcKoLD",
        "outputId": "3e690d05-9bec-4f42-8f16-d0f7a9684121"
      },
      "outputs": [
        {
          "data": {
            "text/plain": [
              "0    NVDA\n",
              "1    MSFT\n",
              "2      FB\n",
              "3    AMZN\n",
              "4      BA\n",
              "dtype: object"
            ]
          },
          "execution_count": 6,
          "metadata": {},
          "output_type": "execute_result"
        }
      ],
      "source": [
        "# 1. 먼저 pandas 생성자 메서드 사용\n",
        "# Series() 메서드 사용하면, Pandas Series를 자동으로 생성해줌.\n",
        "# Python 코드에서 생성한 List를 Pandas Series로 생성\n",
        "series_1 = pd.Series(data = my_list)\n",
        "# Series 출력\n",
        "series_1"
      ]
    },
    {
      "cell_type": "code",
      "execution_count": null,
      "metadata": {
        "colab": {
          "base_uri": "https://localhost:8080/"
        },
        "id": "2i0vtgbOLu-0",
        "outputId": "43b4cde1-4c5f-4021-a657-978a043e1e96"
      },
      "outputs": [
        {
          "name": "stdout",
          "output_type": "stream",
          "text": [
            "<class 'pandas.core.series.Series'>\n"
          ]
        }
      ],
      "source": [
        "print(type(series_1)) # type : pandas.core.series.Series"
      ]
    },
    {
      "cell_type": "code",
      "execution_count": null,
      "metadata": {
        "colab": {
          "base_uri": "https://localhost:8080/"
        },
        "id": "f3gqSkrKMIex",
        "outputId": "b6104a77-3478-4feb-89dc-e86b2c698cb1"
      },
      "outputs": [
        {
          "data": {
            "text/plain": [
              "0     100\n",
              "1     200\n",
              "2     500\n",
              "3    1000\n",
              "4    5000\n",
              "dtype: int64"
            ]
          },
          "execution_count": 10,
          "metadata": {},
          "output_type": "execute_result"
        }
      ],
      "source": [
        "# 숫자형 리스트를 통해 Pandas Series를 생성\n",
        "# Data Type = int64 (정수형 , 64비트 메모리를 백엔드에서 사용중)\n",
        "series_2 = pd.Series(data = [100, 200, 500, 1000, 5000])\n",
        "series_2"
      ]
    },
    {
      "cell_type": "code",
      "execution_count": null,
      "metadata": {
        "colab": {
          "base_uri": "https://localhost:8080/"
        },
        "id": "SIxz32OPMpU7",
        "outputId": "13b84730-7e4a-4c88-95a6-c93fe92b790a"
      },
      "outputs": [
        {
          "data": {
            "text/plain": [
              "0    God Father\n",
              "1        Django\n",
              "2    Inside Out\n",
              "dtype: object"
            ]
          },
          "execution_count": 12,
          "metadata": {},
          "output_type": "execute_result"
        }
      ],
      "source": [
        "# 나만의 Pandas Series 생성\n",
        "my_series = pd.Series(data = ['God Father', 'Django', 'Inside Out'])\n",
        "my_series"
      ]
    },
    {
      "cell_type": "code",
      "execution_count": null,
      "metadata": {
        "colab": {
          "base_uri": "https://localhost:8080/"
        },
        "id": "H95T_oO7NCkY",
        "outputId": "137c2b01-41b3-4a5c-c626-c983228c812e"
      },
      "outputs": [
        {
          "name": "stdout",
          "output_type": "stream",
          "text": [
            "<class 'pandas.core.series.Series'>\n"
          ]
        }
      ],
      "source": [
        "# type Check\n",
        "print(type(my_series))"
      ]
    },
    {
      "cell_type": "markdown",
      "metadata": {
        "id": "hrUEeeIqQCKW"
      },
      "source": [
        "# Pandas Series Index를 Custom Index로 변경\n",
        "1차원 Pandas Series를 나만의 Custom Label 혹은 Custom Index로 생성하는 방법.\n",
        "\n",
        "Pandas 기본 메서드로 Series를 생성하면, 정수형 인덱스가 자동으로 생성됨.\n",
        "- 이를 Custom으로 정의할 수 있음."
      ]
    },
    {
      "cell_type": "code",
      "execution_count": null,
      "metadata": {
        "colab": {
          "base_uri": "https://localhost:8080/"
        },
        "id": "8uyJ4IbOQVUS",
        "outputId": "c039a54a-0cf6-4c15-b6b9-c829be6ab09f"
      },
      "outputs": [
        {
          "data": {
            "text/plain": [
              "['NVDA', 'MSFT', 'FB', 'AMZN', 'BA']"
            ]
          },
          "execution_count": 17,
          "metadata": {},
          "output_type": "execute_result"
        }
      ],
      "source": [
        "# python list 생성\n",
        "# Pandas Series의 실제 값\n",
        "my_list = ['NVDA', 'MSFT', 'FB', 'AMZN', 'BA']\n",
        "my_list"
      ]
    },
    {
      "cell_type": "code",
      "execution_count": null,
      "metadata": {
        "colab": {
          "base_uri": "https://localhost:8080/"
        },
        "id": "ovtXTyPMQeVI",
        "outputId": "f32cdf5c-9741-417c-eabe-55350d3564dd"
      },
      "outputs": [
        {
          "data": {
            "text/plain": [
              "['stock#1', 'stock#2', 'stock#3', 'stock#4', 'stock#5']"
            ]
          },
          "execution_count": 18,
          "metadata": {},
          "output_type": "execute_result"
        }
      ],
      "source": [
        "# 생성한 Pandas Series의 Custom Index로 사용할 Python List 생성\n",
        "my_labels = ['stock#1','stock#2', 'stock#3', 'stock#4', 'stock#5']\n",
        "my_labels"
      ]
    },
    {
      "cell_type": "code",
      "execution_count": null,
      "metadata": {
        "colab": {
          "base_uri": "https://localhost:8080/"
        },
        "id": "gyxAbMKsQv_8",
        "outputId": "c919d3ae-32ec-45c8-e6f8-07c624bab490"
      },
      "outputs": [
        {
          "data": {
            "text/plain": [
              "stock#1    NVDA\n",
              "stock#2    MSFT\n",
              "stock#3      FB\n",
              "stock#4    AMZN\n",
              "stock#5      BA\n",
              "dtype: object"
            ]
          },
          "execution_count": 19,
          "metadata": {},
          "output_type": "execute_result"
        }
      ],
      "source": [
        "# 아래 메서드 사용해서 Custom index 지정 가능\n",
        "# pd.Series(data = {value_list}, index = {label_list})\n",
        "# 값은 my_list가 되고 , my_list의 Index는 미리 정의한 my_labels 가 된것을 확인할 수 있음.\n",
        "series_3 = pd.Series(data = my_list , index = my_labels)\n",
        "series_3"
      ]
    },
    {
      "cell_type": "code",
      "execution_count": null,
      "metadata": {
        "colab": {
          "base_uri": "https://localhost:8080/"
        },
        "id": "4811zuYYRJo4",
        "outputId": "00c97828-eb39-463f-c1b8-aa58537cc5ac"
      },
      "outputs": [
        {
          "name": "stdout",
          "output_type": "stream",
          "text": [
            "<class 'pandas.core.series.Series'>\n"
          ]
        }
      ],
      "source": [
        "# type 확인\n",
        "print(type(series_3))"
      ]
    },
    {
      "cell_type": "code",
      "execution_count": null,
      "metadata": {
        "colab": {
          "base_uri": "https://localhost:8080/"
        },
        "id": "xbKhBoZ8RhmO",
        "outputId": "42abfeda-fbb1-4203-f5f1-0dbbf8d7d190"
      },
      "outputs": [
        {
          "name": "stdout",
          "output_type": "stream",
          "text": [
            "movie #1    The Godfather\n",
            "movie #2       Last of us\n",
            "movie #3        Star Wars\n",
            "dtype: object \n",
            "\n",
            "<class 'pandas.core.series.Series'>\n"
          ]
        }
      ],
      "source": [
        "# value 정의\n",
        "my_movie = ['The Godfather', 'Last of us', 'Star Wars']\n",
        "my_movie\n",
        "\n",
        "# label 정의\n",
        "my_movie_label = ['movie #1','movie #2','movie #3']\n",
        "my_movie_label\n",
        "\n",
        "my_series = pd.Series(data = my_movie, index = my_movie_label)\n",
        "print(my_series,'\\n')\n",
        "\n",
        "print(type(my_series))"
      ]
    },
    {
      "cell_type": "markdown",
      "source": [
        "# Pandas Series를 Python Dictionary로 정의하기\n",
        "Python Dictionary는 Key-value 쌍인 구조를 가지고 있음.\n",
        "\n",
        "각각의 키는 값과 한 쌍을 가지고, ***Key 는 Dictonary에서 고유하지만 값은 중복이 가능.***"
      ],
      "metadata": {
        "id": "le5JUJR8J-M5"
      }
    },
    {
      "cell_type": "code",
      "source": [
        "# Python Dictionary 생성\n",
        "# key는 다음과같은 네가지 정보를 포함함.\n",
        "# 1. 고객 ID , 고객 이름 , 순 자산(자산 - 부채) , 거래 햇수 (은행과 거래한 지 몇년이 되었는가 ?)\n",
        "my_dict = {'Bank Client ID': 111,\n",
        "           'Bank Client Name': 'Steve',\n",
        "           'Net Worth [$]': 3500,\n",
        "           'Years with Bank': 9}"
      ],
      "metadata": {
        "id": "-Xvet9dXKnho"
      },
      "execution_count": 2,
      "outputs": []
    },
    {
      "cell_type": "code",
      "source": [
        "# Dictonary 확인\n",
        "my_dict"
      ],
      "metadata": {
        "colab": {
          "base_uri": "https://localhost:8080/"
        },
        "id": "ih4VPhXKLVPb",
        "outputId": "a9451958-6165-457a-a97e-8fa2c49b2b30"
      },
      "execution_count": 3,
      "outputs": [
        {
          "output_type": "execute_result",
          "data": {
            "text/plain": [
              "{'Bank Client ID': 111,\n",
              " 'Bank Client Name': 'Steve',\n",
              " 'Net Worth [$]': 3500,\n",
              " 'Years with Bank': 9}"
            ]
          },
          "metadata": {},
          "execution_count": 3
        }
      ]
    },
    {
      "cell_type": "code",
      "source": [
        "# Dictonary Data Type 확인\n",
        "print(type(my_dict))"
      ],
      "metadata": {
        "colab": {
          "base_uri": "https://localhost:8080/"
        },
        "id": "hleFjWGnLehm",
        "outputId": "4b54ed29-48ac-494f-94f9-b30e8a02652b"
      },
      "execution_count": 4,
      "outputs": [
        {
          "output_type": "stream",
          "name": "stdout",
          "text": [
            "<class 'dict'>\n"
          ]
        }
      ]
    },
    {
      "cell_type": "code",
      "source": [
        "# Dictonary로 Pandas Series 생성\n",
        "# Series 의 index 값이 Python Dictonary의 Key가 된것을 확인할 수 있음.\n",
        "# 또한 Series의 Value는 Key값의 값이 들어간것을 확인할 수 있으며,\n",
        "# Type은 Object인것을 볼 수 있음. (Pandas에서 String과 같은 타입)\n",
        "series_4 = pd.Series(my_dict)\n",
        "series_4"
      ],
      "metadata": {
        "colab": {
          "base_uri": "https://localhost:8080/"
        },
        "id": "88zH_drPLmfJ",
        "outputId": "bfdba118-015b-45ab-90fd-a95024352300"
      },
      "execution_count": 6,
      "outputs": [
        {
          "output_type": "execute_result",
          "data": {
            "text/plain": [
              "Bank Client ID        111\n",
              "Bank Client Name    Steve\n",
              "Net Worth [$]        3500\n",
              "Years with Bank         9\n",
              "dtype: object"
            ]
          },
          "metadata": {},
          "execution_count": 6
        }
      ]
    },
    {
      "cell_type": "code",
      "source": [
        "# Series 생성\n",
        "series_5 = pd.Series(data = {\n",
        "    'NVDA': 785,\n",
        "    'MSFT': 406,\n",
        "    'AMZN': 174,\n",
        "    'AAPL': 181\n",
        "    })\n",
        "\n",
        "# 확인\n",
        "series_5"
      ],
      "metadata": {
        "colab": {
          "base_uri": "https://localhost:8080/"
        },
        "id": "hLT6aS-yMCPR",
        "outputId": "94296770-01ca-4899-cb7f-c047db071dc4"
      },
      "execution_count": 9,
      "outputs": [
        {
          "output_type": "execute_result",
          "data": {
            "text/plain": [
              "NVDA    785\n",
              "MSFT    406\n",
              "AMZN    174\n",
              "AAPL    181\n",
              "dtype: int64"
            ]
          },
          "metadata": {},
          "execution_count": 9
        }
      ]
    },
    {
      "cell_type": "markdown",
      "source": [
        "# Pandas 속성\n",
        "Pandas Series를 정의한 이후, 이에 대한 특징과 속성을 얻는 방법들.\n",
        "\n",
        "\n",
        "Pandas Series의 속성으로 세가지로 나뉨.\n",
        "1. **Attributes or Properties**\n",
        "  - 괄호나 대괄호 사용 안함.\n",
        "    - ex ) ```my_series.values, my_series.shape ...```\n",
        "2. **Methods**\n",
        "  - **( )** : 괄호를 사용하면 메서드를 사용한다는 의미\n",
        "    - ex ) ```my_series.tail(), my_series.head() ...```\n",
        "3. **Indexers**\n",
        "  - **[ ]** : 대괄호를 사용하면 인덱서를 사용하겠다는 의미\n",
        "    - ex ) ```my_series.loc[], my_series.iloc[] ...```\n"
      ],
      "metadata": {
        "id": "xLGqltneNAIY"
      }
    },
    {
      "cell_type": "code",
      "source": [
        "# my_list 정의하여 Pandas Series로 변경\n",
        "my_list = ['NVDA', 'MSFT', 'FB', 'AMZN', 'BA']\n",
        "my_series = pd.Series(data = my_list)\n",
        "my_series"
      ],
      "metadata": {
        "colab": {
          "base_uri": "https://localhost:8080/"
        },
        "id": "SS5JfW5EOpFX",
        "outputId": "b1e97e84-f916-487a-c014-3d5ce6033b08"
      },
      "execution_count": 11,
      "outputs": [
        {
          "output_type": "execute_result",
          "data": {
            "text/plain": [
              "0    NVDA\n",
              "1    MSFT\n",
              "2      FB\n",
              "3    AMZN\n",
              "4      BA\n",
              "dtype: object"
            ]
          },
          "metadata": {},
          "execution_count": 11
        }
      ]
    },
    {
      "cell_type": "code",
      "source": [
        "# Pandas Series의 Values , Attributes 출력.\n",
        "# 괄호나 대괄호 사용하지 않았기에 Pandas Series의 value 만 출력.\n",
        "my_series.values"
      ],
      "metadata": {
        "colab": {
          "base_uri": "https://localhost:8080/"
        },
        "id": "r_Bsrql3O5m3",
        "outputId": "67b13fdb-55b1-4646-a92c-5fc75e6849f8"
      },
      "execution_count": 12,
      "outputs": [
        {
          "output_type": "execute_result",
          "data": {
            "text/plain": [
              "array(['NVDA', 'MSFT', 'FB', 'AMZN', 'BA'], dtype=object)"
            ]
          },
          "metadata": {},
          "execution_count": 12
        }
      ]
    },
    {
      "cell_type": "code",
      "source": [
        "# Index만 출력.\n",
        "# index가 0부터 시작해서 5개까지 있는데, step, 1씩 올라간다는 의미\n",
        "my_series.index"
      ],
      "metadata": {
        "colab": {
          "base_uri": "https://localhost:8080/"
        },
        "id": "h6_E6hnNPSiE",
        "outputId": "085d3853-3cb6-4ebd-c1e7-2d7b58866680"
      },
      "execution_count": 13,
      "outputs": [
        {
          "output_type": "execute_result",
          "data": {
            "text/plain": [
              "RangeIndex(start=0, stop=5, step=1)"
            ]
          },
          "metadata": {},
          "execution_count": 13
        }
      ]
    },
    {
      "cell_type": "code",
      "source": [
        "# 'O' 데이터타입은 Object를 의미함. 이는 Series에 저장된 데이터가 String이기 떄문에 Object로 생성됨\n",
        "my_series.dtype"
      ],
      "metadata": {
        "colab": {
          "base_uri": "https://localhost:8080/"
        },
        "id": "n9Ack6q6PU6X",
        "outputId": "11cf5586-c78c-47d3-9055-12ce3fc1a357"
      },
      "execution_count": 14,
      "outputs": [
        {
          "output_type": "execute_result",
          "data": {
            "text/plain": [
              "dtype('O')"
            ]
          },
          "metadata": {},
          "execution_count": 14
        }
      ]
    },
    {
      "cell_type": "code",
      "source": [
        "# Pandas Series의 elements들이 고유한지 아닌지를 판단함.\n",
        "# Pandas Series에 저장된 값들 (['NVDA', 'MSFT', 'FB', 'AMZN', 'BA']) 이 고유한지 판단함.\n",
        "# 겹치는값이 있으면 false\n",
        "my_series.is_unique"
      ],
      "metadata": {
        "colab": {
          "base_uri": "https://localhost:8080/"
        },
        "id": "HrQjB8mmPlF6",
        "outputId": "d3357fa4-659d-42fb-8872-38f901af7170"
      },
      "execution_count": 15,
      "outputs": [
        {
          "output_type": "execute_result",
          "data": {
            "text/plain": [
              "True"
            ]
          },
          "metadata": {},
          "execution_count": 15
        }
      ]
    },
    {
      "cell_type": "code",
      "source": [
        "# 요소 개수 출력, 5개 저장되어서 5 출력.\n",
        "# 1차원 Series라서 한개만나옴\n",
        "my_series.shape"
      ],
      "metadata": {
        "colab": {
          "base_uri": "https://localhost:8080/"
        },
        "id": "Ll_oW3goPwzf",
        "outputId": "45fb9f44-aed5-4f7a-b565-e4ee68d2dfaf"
      },
      "execution_count": 16,
      "outputs": [
        {
          "output_type": "execute_result",
          "data": {
            "text/plain": [
              "(5,)"
            ]
          },
          "metadata": {},
          "execution_count": 16
        }
      ]
    },
    {
      "cell_type": "code",
      "source": [
        "# Series의 Size 출력\n",
        "# 5개 저장되어있으니 5 출력\n",
        "my_series.size"
      ],
      "metadata": {
        "colab": {
          "base_uri": "https://localhost:8080/"
        },
        "id": "PZAYu7VcP-0V",
        "outputId": "de2b1d42-32a3-4d64-eb7c-81e6f7fe1269"
      },
      "execution_count": 17,
      "outputs": [
        {
          "output_type": "execute_result",
          "data": {
            "text/plain": [
              "5"
            ]
          },
          "metadata": {},
          "execution_count": 17
        }
      ]
    },
    {
      "cell_type": "markdown",
      "source": [
        "# Pandas Methods\n",
        "Pandas Method는 **( )** 괄호를 사용해서 정보나 특징을 출력함.\n",
        "\n",
        "Pandas Methods들은 Series 내부 정보를 변경하는데 사용함.\n",
        "- ex ) ```my_series.tail() , my_series.head(), my_series.drop_duplicates() ...```\n",
        "\n",
        "\n"
      ],
      "metadata": {
        "id": "p6bXaM0oQ2wf"
      }
    },
    {
      "cell_type": "code",
      "source": [
        "# Test Series 생성\n",
        "my_series = pd.Series(data = [100, 200, 500, 1000, 5000])\n",
        "my_series"
      ],
      "metadata": {
        "colab": {
          "base_uri": "https://localhost:8080/"
        },
        "id": "-x1erTJERLQJ",
        "outputId": "5ded05c0-80a1-4e87-d814-619128f5535b"
      },
      "execution_count": 18,
      "outputs": [
        {
          "output_type": "execute_result",
          "data": {
            "text/plain": [
              "0     100\n",
              "1     200\n",
              "2     500\n",
              "3    1000\n",
              "4    5000\n",
              "dtype: int64"
            ]
          },
          "metadata": {},
          "execution_count": 18
        }
      ]
    },
    {
      "cell_type": "code",
      "source": [
        "# sum() 메서드로 모든 Series의 value들을 더할 수 있음\n",
        "my_series.sum()"
      ],
      "metadata": {
        "colab": {
          "base_uri": "https://localhost:8080/"
        },
        "id": "flPhkCrRRY6G",
        "outputId": "302bb25e-180f-46fb-d908-ef1c93329929"
      },
      "execution_count": 19,
      "outputs": [
        {
          "output_type": "execute_result",
          "data": {
            "text/plain": [
              "6800"
            ]
          },
          "metadata": {},
          "execution_count": 19
        }
      ]
    },
    {
      "cell_type": "code",
      "source": [
        "# product() 메서드로 Series의 모든 value들을 곱할 수 있음\n",
        "my_series.product()"
      ],
      "metadata": {
        "colab": {
          "base_uri": "https://localhost:8080/"
        },
        "id": "1n2K5LtDRhQ-",
        "outputId": "45393db8-97c0-4969-a0f1-f6d9d26a6071"
      },
      "execution_count": 20,
      "outputs": [
        {
          "output_type": "execute_result",
          "data": {
            "text/plain": [
              "50000000000000"
            ]
          },
          "metadata": {},
          "execution_count": 20
        }
      ]
    },
    {
      "cell_type": "code",
      "source": [
        "# mean() 메서드로 Series의 모든 value들의 평균을 구할 수 있음\n",
        "my_series.mean()"
      ],
      "metadata": {
        "colab": {
          "base_uri": "https://localhost:8080/"
        },
        "id": "7BIb1FwfRmMz",
        "outputId": "29d0b6cc-fce1-4858-e4d1-3ac8416c58b0"
      },
      "execution_count": 21,
      "outputs": [
        {
          "output_type": "execute_result",
          "data": {
            "text/plain": [
              "1360.0"
            ]
          },
          "metadata": {},
          "execution_count": 21
        }
      ]
    },
    {
      "cell_type": "code",
      "source": [
        "# head(number) 메서드로 Series의 value중 처음 n 개들의 요소들만 출력할 수 있음.\n",
        "# head() 메서드 파라미터로 value number 들어감\n",
        "my_series.head(2)"
      ],
      "metadata": {
        "colab": {
          "base_uri": "https://localhost:8080/"
        },
        "id": "W0_3gp0PRyfL",
        "outputId": "b864d787-2e6d-4505-c54b-f58ec7036e60"
      },
      "execution_count": 23,
      "outputs": [
        {
          "output_type": "execute_result",
          "data": {
            "text/plain": [
              "0    100\n",
              "1    200\n",
              "dtype: int64"
            ]
          },
          "metadata": {},
          "execution_count": 23
        }
      ]
    },
    {
      "cell_type": "code",
      "source": [
        "# head(number) 메서드로 특정 Series의 value들만 뽑아서 하위 Series를 생성할 수 잇음.\n",
        "# - DataFrame 기초\n",
        "new_series = my_series.head(3)\n",
        "new_series"
      ],
      "metadata": {
        "colab": {
          "base_uri": "https://localhost:8080/"
        },
        "id": "RL_c8xtUR31z",
        "outputId": "8f7ddfcf-a7f0-41cc-d940-1a2022017a68"
      },
      "execution_count": 24,
      "outputs": [
        {
          "output_type": "execute_result",
          "data": {
            "text/plain": [
              "0    100\n",
              "1    200\n",
              "2    500\n",
              "dtype: int64"
            ]
          },
          "metadata": {},
          "execution_count": 24
        }
      ]
    },
    {
      "cell_type": "code",
      "source": [
        "# tail(number) 메서드로 특정 Series의 value 중 아래부터 n개 위의 요소들만 뽑아올 수 있음.\n",
        "# tail() 메서드 파라미터로 value number 들어감\n",
        "my_series.tail(2)"
      ],
      "metadata": {
        "colab": {
          "base_uri": "https://localhost:8080/"
        },
        "id": "rGEO8PK4SKhN",
        "outputId": "86c4f466-c18a-4fa1-b752-3b2cef49c6ef"
      },
      "execution_count": 32,
      "outputs": [
        {
          "output_type": "execute_result",
          "data": {
            "text/plain": [
              "3    1000\n",
              "4    5000\n",
              "dtype: int64"
            ]
          },
          "metadata": {},
          "execution_count": 32
        }
      ]
    },
    {
      "cell_type": "code",
      "source": [
        "# series 메모리 소비량 확인\n",
        "my_series.memory_usage()"
      ],
      "metadata": {
        "colab": {
          "base_uri": "https://localhost:8080/"
        },
        "id": "roGqGDM-SbYv",
        "outputId": "2646af9b-dcc1-4660-ab86-c389ae09640b"
      },
      "execution_count": 34,
      "outputs": [
        {
          "output_type": "execute_result",
          "data": {
            "text/plain": [
              "168"
            ]
          },
          "metadata": {},
          "execution_count": 34
        }
      ]
    },
    {
      "cell_type": "markdown",
      "source": [
        "# CSV 데이터를 Pandas를 이용하여 Import 하는 방안\n",
        ".CSV 데이터 파일을 Pandas 를 통해 Import 하는 방안에 대해 기술합니다.\n",
        "\n",
        "Pandas의 read_csv 를 사용하여 CSV file을 Import 함.\n",
        "\n",
        "```read_``` 메서드를 확인해보면 , 정말 다양한 Data Format을 Import 할 수 있는것을 확인할 수 있음.\n",
        "- html, json, execl 등 ...\n",
        "\n",
        "\n",
        "\n",
        "Pandas Series, 일차원 배열로 import 하는 방안과, DataFrame인 다차원 배열로 Import 하는 방안 두가지로 나뉨."
      ],
      "metadata": {
        "id": "WJjfOSysdeez"
      }
    },
    {
      "cell_type": "code",
      "source": [
        "# read_csv(file_path) 메서드로 Import 함.\n",
        "# 파라미터로 파일 경로를 넣어줌\n",
        "# squeeze(Boolean) 메서드의 파라미터를 True로 두어서 어떤 데이터 타입을 넣엇던간에 Pandas Series로 가져오겠다는 의미임.\n",
        "# squeeze(Boolean) 메서드 파라미터를 false로 두면, Pandas가 무조건 데이터를 DataFrame으로 가져오게 됨.\n",
        "sp500 = pd.read_csv('S_P500_Prices.csv').squeeze(True)\n",
        "\n",
        "# 출력결과 CSV 파일을 가져와서 Pandas Series로 출력한것을 확인할 수 있음.\n",
        "# 이름, 길이, 데이터타입이 출력됨.\n",
        "# DataFrame과 Series의 차이점은, Series는 데이터 포멧팅이 안된다는게 중요함.\n",
        "# DataFrame은 데이터가 포메팅되어 1열이 아닌 여러 행과 열을 가진 다차원 데이터 테이블임.\n",
        "sp500"
      ],
      "metadata": {
        "colab": {
          "base_uri": "https://localhost:8080/"
        },
        "id": "z5baVbw7ds7D",
        "outputId": "6ac260df-b438-4ace-a658-66602d99ea95"
      },
      "execution_count": 39,
      "outputs": [
        {
          "output_type": "execute_result",
          "data": {
            "text/plain": [
              "0       1295.500000\n",
              "1       1289.089966\n",
              "2       1293.670044\n",
              "3       1308.040039\n",
              "4       1314.500000\n",
              "           ...     \n",
              "2154    3327.770020\n",
              "2155    3349.159912\n",
              "2156    3351.280029\n",
              "2157    3360.469971\n",
              "2158    3333.689941\n",
              "Name: sp500, Length: 2159, dtype: float64"
            ]
          },
          "metadata": {},
          "execution_count": 39
        }
      ]
    },
    {
      "cell_type": "code",
      "source": [
        "# DataFrame 생성\n",
        "# 출력결과 데이터가 포멧팅되어 정렬후 출력되는것을 알 수 있음.\n",
        "# 또한 출력된 정보를 내가 보고싶은정보로 수정하거나 정렬할 수 잇음.\n",
        "sp500_df = pd.read_csv('S_P500_Prices.csv').squeeze(False)\n",
        "sp500_df"
      ],
      "metadata": {
        "colab": {
          "base_uri": "https://localhost:8080/",
          "height": 424
        },
        "id": "es02p-L-fRRP",
        "outputId": "70168aed-d529-45b5-8632-b914b3a0b4c6"
      },
      "execution_count": 41,
      "outputs": [
        {
          "output_type": "execute_result",
          "data": {
            "text/plain": [
              "            sp500\n",
              "0     1295.500000\n",
              "1     1289.089966\n",
              "2     1293.670044\n",
              "3     1308.040039\n",
              "4     1314.500000\n",
              "...           ...\n",
              "2154  3327.770020\n",
              "2155  3349.159912\n",
              "2156  3351.280029\n",
              "2157  3360.469971\n",
              "2158  3333.689941\n",
              "\n",
              "[2159 rows x 1 columns]"
            ],
            "text/html": [
              "\n",
              "  <div id=\"df-51159ca8-5ec5-4271-95be-3ff27eba001a\" class=\"colab-df-container\">\n",
              "    <div>\n",
              "<style scoped>\n",
              "    .dataframe tbody tr th:only-of-type {\n",
              "        vertical-align: middle;\n",
              "    }\n",
              "\n",
              "    .dataframe tbody tr th {\n",
              "        vertical-align: top;\n",
              "    }\n",
              "\n",
              "    .dataframe thead th {\n",
              "        text-align: right;\n",
              "    }\n",
              "</style>\n",
              "<table border=\"1\" class=\"dataframe\">\n",
              "  <thead>\n",
              "    <tr style=\"text-align: right;\">\n",
              "      <th></th>\n",
              "      <th>sp500</th>\n",
              "    </tr>\n",
              "  </thead>\n",
              "  <tbody>\n",
              "    <tr>\n",
              "      <th>0</th>\n",
              "      <td>1295.500000</td>\n",
              "    </tr>\n",
              "    <tr>\n",
              "      <th>1</th>\n",
              "      <td>1289.089966</td>\n",
              "    </tr>\n",
              "    <tr>\n",
              "      <th>2</th>\n",
              "      <td>1293.670044</td>\n",
              "    </tr>\n",
              "    <tr>\n",
              "      <th>3</th>\n",
              "      <td>1308.040039</td>\n",
              "    </tr>\n",
              "    <tr>\n",
              "      <th>4</th>\n",
              "      <td>1314.500000</td>\n",
              "    </tr>\n",
              "    <tr>\n",
              "      <th>...</th>\n",
              "      <td>...</td>\n",
              "    </tr>\n",
              "    <tr>\n",
              "      <th>2154</th>\n",
              "      <td>3327.770020</td>\n",
              "    </tr>\n",
              "    <tr>\n",
              "      <th>2155</th>\n",
              "      <td>3349.159912</td>\n",
              "    </tr>\n",
              "    <tr>\n",
              "      <th>2156</th>\n",
              "      <td>3351.280029</td>\n",
              "    </tr>\n",
              "    <tr>\n",
              "      <th>2157</th>\n",
              "      <td>3360.469971</td>\n",
              "    </tr>\n",
              "    <tr>\n",
              "      <th>2158</th>\n",
              "      <td>3333.689941</td>\n",
              "    </tr>\n",
              "  </tbody>\n",
              "</table>\n",
              "<p>2159 rows × 1 columns</p>\n",
              "</div>\n",
              "    <div class=\"colab-df-buttons\">\n",
              "\n",
              "  <div class=\"colab-df-container\">\n",
              "    <button class=\"colab-df-convert\" onclick=\"convertToInteractive('df-51159ca8-5ec5-4271-95be-3ff27eba001a')\"\n",
              "            title=\"Convert this dataframe to an interactive table.\"\n",
              "            style=\"display:none;\">\n",
              "\n",
              "  <svg xmlns=\"http://www.w3.org/2000/svg\" height=\"24px\" viewBox=\"0 -960 960 960\">\n",
              "    <path d=\"M120-120v-720h720v720H120Zm60-500h600v-160H180v160Zm220 220h160v-160H400v160Zm0 220h160v-160H400v160ZM180-400h160v-160H180v160Zm440 0h160v-160H620v160ZM180-180h160v-160H180v160Zm440 0h160v-160H620v160Z\"/>\n",
              "  </svg>\n",
              "    </button>\n",
              "\n",
              "  <style>\n",
              "    .colab-df-container {\n",
              "      display:flex;\n",
              "      gap: 12px;\n",
              "    }\n",
              "\n",
              "    .colab-df-convert {\n",
              "      background-color: #E8F0FE;\n",
              "      border: none;\n",
              "      border-radius: 50%;\n",
              "      cursor: pointer;\n",
              "      display: none;\n",
              "      fill: #1967D2;\n",
              "      height: 32px;\n",
              "      padding: 0 0 0 0;\n",
              "      width: 32px;\n",
              "    }\n",
              "\n",
              "    .colab-df-convert:hover {\n",
              "      background-color: #E2EBFA;\n",
              "      box-shadow: 0px 1px 2px rgba(60, 64, 67, 0.3), 0px 1px 3px 1px rgba(60, 64, 67, 0.15);\n",
              "      fill: #174EA6;\n",
              "    }\n",
              "\n",
              "    .colab-df-buttons div {\n",
              "      margin-bottom: 4px;\n",
              "    }\n",
              "\n",
              "    [theme=dark] .colab-df-convert {\n",
              "      background-color: #3B4455;\n",
              "      fill: #D2E3FC;\n",
              "    }\n",
              "\n",
              "    [theme=dark] .colab-df-convert:hover {\n",
              "      background-color: #434B5C;\n",
              "      box-shadow: 0px 1px 3px 1px rgba(0, 0, 0, 0.15);\n",
              "      filter: drop-shadow(0px 1px 2px rgba(0, 0, 0, 0.3));\n",
              "      fill: #FFFFFF;\n",
              "    }\n",
              "  </style>\n",
              "\n",
              "    <script>\n",
              "      const buttonEl =\n",
              "        document.querySelector('#df-51159ca8-5ec5-4271-95be-3ff27eba001a button.colab-df-convert');\n",
              "      buttonEl.style.display =\n",
              "        google.colab.kernel.accessAllowed ? 'block' : 'none';\n",
              "\n",
              "      async function convertToInteractive(key) {\n",
              "        const element = document.querySelector('#df-51159ca8-5ec5-4271-95be-3ff27eba001a');\n",
              "        const dataTable =\n",
              "          await google.colab.kernel.invokeFunction('convertToInteractive',\n",
              "                                                    [key], {});\n",
              "        if (!dataTable) return;\n",
              "\n",
              "        const docLinkHtml = 'Like what you see? Visit the ' +\n",
              "          '<a target=\"_blank\" href=https://colab.research.google.com/notebooks/data_table.ipynb>data table notebook</a>'\n",
              "          + ' to learn more about interactive tables.';\n",
              "        element.innerHTML = '';\n",
              "        dataTable['output_type'] = 'display_data';\n",
              "        await google.colab.output.renderOutput(dataTable, element);\n",
              "        const docLink = document.createElement('div');\n",
              "        docLink.innerHTML = docLinkHtml;\n",
              "        element.appendChild(docLink);\n",
              "      }\n",
              "    </script>\n",
              "  </div>\n",
              "\n",
              "\n",
              "<div id=\"df-d3cfc87e-7c6e-4935-adcd-a78e3a7a8fa6\">\n",
              "  <button class=\"colab-df-quickchart\" onclick=\"quickchart('df-d3cfc87e-7c6e-4935-adcd-a78e3a7a8fa6')\"\n",
              "            title=\"Suggest charts\"\n",
              "            style=\"display:none;\">\n",
              "\n",
              "<svg xmlns=\"http://www.w3.org/2000/svg\" height=\"24px\"viewBox=\"0 0 24 24\"\n",
              "     width=\"24px\">\n",
              "    <g>\n",
              "        <path d=\"M19 3H5c-1.1 0-2 .9-2 2v14c0 1.1.9 2 2 2h14c1.1 0 2-.9 2-2V5c0-1.1-.9-2-2-2zM9 17H7v-7h2v7zm4 0h-2V7h2v10zm4 0h-2v-4h2v4z\"/>\n",
              "    </g>\n",
              "</svg>\n",
              "  </button>\n",
              "\n",
              "<style>\n",
              "  .colab-df-quickchart {\n",
              "      --bg-color: #E8F0FE;\n",
              "      --fill-color: #1967D2;\n",
              "      --hover-bg-color: #E2EBFA;\n",
              "      --hover-fill-color: #174EA6;\n",
              "      --disabled-fill-color: #AAA;\n",
              "      --disabled-bg-color: #DDD;\n",
              "  }\n",
              "\n",
              "  [theme=dark] .colab-df-quickchart {\n",
              "      --bg-color: #3B4455;\n",
              "      --fill-color: #D2E3FC;\n",
              "      --hover-bg-color: #434B5C;\n",
              "      --hover-fill-color: #FFFFFF;\n",
              "      --disabled-bg-color: #3B4455;\n",
              "      --disabled-fill-color: #666;\n",
              "  }\n",
              "\n",
              "  .colab-df-quickchart {\n",
              "    background-color: var(--bg-color);\n",
              "    border: none;\n",
              "    border-radius: 50%;\n",
              "    cursor: pointer;\n",
              "    display: none;\n",
              "    fill: var(--fill-color);\n",
              "    height: 32px;\n",
              "    padding: 0;\n",
              "    width: 32px;\n",
              "  }\n",
              "\n",
              "  .colab-df-quickchart:hover {\n",
              "    background-color: var(--hover-bg-color);\n",
              "    box-shadow: 0 1px 2px rgba(60, 64, 67, 0.3), 0 1px 3px 1px rgba(60, 64, 67, 0.15);\n",
              "    fill: var(--button-hover-fill-color);\n",
              "  }\n",
              "\n",
              "  .colab-df-quickchart-complete:disabled,\n",
              "  .colab-df-quickchart-complete:disabled:hover {\n",
              "    background-color: var(--disabled-bg-color);\n",
              "    fill: var(--disabled-fill-color);\n",
              "    box-shadow: none;\n",
              "  }\n",
              "\n",
              "  .colab-df-spinner {\n",
              "    border: 2px solid var(--fill-color);\n",
              "    border-color: transparent;\n",
              "    border-bottom-color: var(--fill-color);\n",
              "    animation:\n",
              "      spin 1s steps(1) infinite;\n",
              "  }\n",
              "\n",
              "  @keyframes spin {\n",
              "    0% {\n",
              "      border-color: transparent;\n",
              "      border-bottom-color: var(--fill-color);\n",
              "      border-left-color: var(--fill-color);\n",
              "    }\n",
              "    20% {\n",
              "      border-color: transparent;\n",
              "      border-left-color: var(--fill-color);\n",
              "      border-top-color: var(--fill-color);\n",
              "    }\n",
              "    30% {\n",
              "      border-color: transparent;\n",
              "      border-left-color: var(--fill-color);\n",
              "      border-top-color: var(--fill-color);\n",
              "      border-right-color: var(--fill-color);\n",
              "    }\n",
              "    40% {\n",
              "      border-color: transparent;\n",
              "      border-right-color: var(--fill-color);\n",
              "      border-top-color: var(--fill-color);\n",
              "    }\n",
              "    60% {\n",
              "      border-color: transparent;\n",
              "      border-right-color: var(--fill-color);\n",
              "    }\n",
              "    80% {\n",
              "      border-color: transparent;\n",
              "      border-right-color: var(--fill-color);\n",
              "      border-bottom-color: var(--fill-color);\n",
              "    }\n",
              "    90% {\n",
              "      border-color: transparent;\n",
              "      border-bottom-color: var(--fill-color);\n",
              "    }\n",
              "  }\n",
              "</style>\n",
              "\n",
              "  <script>\n",
              "    async function quickchart(key) {\n",
              "      const quickchartButtonEl =\n",
              "        document.querySelector('#' + key + ' button');\n",
              "      quickchartButtonEl.disabled = true;  // To prevent multiple clicks.\n",
              "      quickchartButtonEl.classList.add('colab-df-spinner');\n",
              "      try {\n",
              "        const charts = await google.colab.kernel.invokeFunction(\n",
              "            'suggestCharts', [key], {});\n",
              "      } catch (error) {\n",
              "        console.error('Error during call to suggestCharts:', error);\n",
              "      }\n",
              "      quickchartButtonEl.classList.remove('colab-df-spinner');\n",
              "      quickchartButtonEl.classList.add('colab-df-quickchart-complete');\n",
              "    }\n",
              "    (() => {\n",
              "      let quickchartButtonEl =\n",
              "        document.querySelector('#df-d3cfc87e-7c6e-4935-adcd-a78e3a7a8fa6 button');\n",
              "      quickchartButtonEl.style.display =\n",
              "        google.colab.kernel.accessAllowed ? 'block' : 'none';\n",
              "    })();\n",
              "  </script>\n",
              "</div>\n",
              "\n",
              "  <div id=\"id_98622874-736c-4c2b-8da5-4a8104e09c9f\">\n",
              "    <style>\n",
              "      .colab-df-generate {\n",
              "        background-color: #E8F0FE;\n",
              "        border: none;\n",
              "        border-radius: 50%;\n",
              "        cursor: pointer;\n",
              "        display: none;\n",
              "        fill: #1967D2;\n",
              "        height: 32px;\n",
              "        padding: 0 0 0 0;\n",
              "        width: 32px;\n",
              "      }\n",
              "\n",
              "      .colab-df-generate:hover {\n",
              "        background-color: #E2EBFA;\n",
              "        box-shadow: 0px 1px 2px rgba(60, 64, 67, 0.3), 0px 1px 3px 1px rgba(60, 64, 67, 0.15);\n",
              "        fill: #174EA6;\n",
              "      }\n",
              "\n",
              "      [theme=dark] .colab-df-generate {\n",
              "        background-color: #3B4455;\n",
              "        fill: #D2E3FC;\n",
              "      }\n",
              "\n",
              "      [theme=dark] .colab-df-generate:hover {\n",
              "        background-color: #434B5C;\n",
              "        box-shadow: 0px 1px 3px 1px rgba(0, 0, 0, 0.15);\n",
              "        filter: drop-shadow(0px 1px 2px rgba(0, 0, 0, 0.3));\n",
              "        fill: #FFFFFF;\n",
              "      }\n",
              "    </style>\n",
              "    <button class=\"colab-df-generate\" onclick=\"generateWithVariable('sp500_df')\"\n",
              "            title=\"Generate code using this dataframe.\"\n",
              "            style=\"display:none;\">\n",
              "\n",
              "  <svg xmlns=\"http://www.w3.org/2000/svg\" height=\"24px\"viewBox=\"0 0 24 24\"\n",
              "       width=\"24px\">\n",
              "    <path d=\"M7,19H8.4L18.45,9,17,7.55,7,17.6ZM5,21V16.75L18.45,3.32a2,2,0,0,1,2.83,0l1.4,1.43a1.91,1.91,0,0,1,.58,1.4,1.91,1.91,0,0,1-.58,1.4L9.25,21ZM18.45,9,17,7.55Zm-12,3A5.31,5.31,0,0,0,4.9,8.1,5.31,5.31,0,0,0,1,6.5,5.31,5.31,0,0,0,4.9,4.9,5.31,5.31,0,0,0,6.5,1,5.31,5.31,0,0,0,8.1,4.9,5.31,5.31,0,0,0,12,6.5,5.46,5.46,0,0,0,6.5,12Z\"/>\n",
              "  </svg>\n",
              "    </button>\n",
              "    <script>\n",
              "      (() => {\n",
              "      const buttonEl =\n",
              "        document.querySelector('#id_98622874-736c-4c2b-8da5-4a8104e09c9f button.colab-df-generate');\n",
              "      buttonEl.style.display =\n",
              "        google.colab.kernel.accessAllowed ? 'block' : 'none';\n",
              "\n",
              "      buttonEl.onclick = () => {\n",
              "        google.colab.notebook.generateWithVariable('sp500_df');\n",
              "      }\n",
              "      })();\n",
              "    </script>\n",
              "  </div>\n",
              "\n",
              "    </div>\n",
              "  </div>\n"
            ],
            "application/vnd.google.colaboratory.intrinsic+json": {
              "type": "dataframe",
              "variable_name": "sp500_df",
              "summary": "{\n  \"name\": \"sp500_df\",\n  \"rows\": 2159,\n  \"fields\": [\n    {\n      \"column\": \"sp500\",\n      \"properties\": {\n        \"dtype\": \"number\",\n        \"std\": 537.3217268874763,\n        \"min\": 1278.040039,\n        \"max\": 3386.149902,\n        \"num_unique_values\": 2147,\n        \"samples\": [\n          2176.120117,\n          3334.689941,\n          2063.590088\n        ],\n        \"semantic_type\": \"\",\n        \"description\": \"\"\n      }\n    }\n  ]\n}"
            }
          },
          "metadata": {},
          "execution_count": 41
        }
      ]
    },
    {
      "cell_type": "code",
      "source": [],
      "metadata": {
        "id": "kyWLDMn2gf4A"
      },
      "execution_count": null,
      "outputs": []
    },
    {
      "cell_type": "code",
      "source": [],
      "metadata": {
        "id": "jA8Bl6vugTcE"
      },
      "execution_count": null,
      "outputs": []
    }
  ],
  "metadata": {
    "colab": {
      "provenance": []
    },
    "kernelspec": {
      "display_name": "Python 3",
      "name": "python3"
    },
    "language_info": {
      "name": "python",
      "version": "3.12.2"
    }
  },
  "nbformat": 4,
  "nbformat_minor": 0
}