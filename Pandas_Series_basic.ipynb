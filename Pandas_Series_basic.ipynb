{
  "nbformat": 4,
  "nbformat_minor": 0,
  "metadata": {
    "colab": {
      "provenance": []
    },
    "kernelspec": {
      "name": "python3",
      "display_name": "Python 3"
    },
    "language_info": {
      "name": "python"
    }
  },
  "cells": [
    {
      "cell_type": "markdown",
      "source": [
        "# Pandas Series Repository\n",
        "data 분석을 위한 Pandas 라이브러리에 대해 정리해 두었습니다."
      ],
      "metadata": {
        "id": "VvalVRcEIRV_"
      }
    },
    {
      "cell_type": "markdown",
      "source": [
        "Pandas는 numpy라는 데이터 조작 분석 툴로 데이터프레임이라 하는 데이터 구조를 사용함.\n",
        "\n",
        "Pandas를 python의 엑셀이라 보면 됨.\n",
        "\n",
        "테이블형식 데이터를 매우 쉽게 처리가 가능함.\n",
        "- 행, 열을 활용하거나 데이터를 저장할 수 있음.\n",
        "\n",
        "**Pandas Series 는 데이터 프레임의 열을 일컫는 표현**\n",
        "- Pandas Series는 열이 하나밖에 없음\n",
        "\n",
        "**DataFrame 이란 다차원 테이블 데이터**"
      ],
      "metadata": {
        "id": "C27_VZHxI2-L"
      }
    },
    {
      "cell_type": "code",
      "source": [
        "import pandas as pd # pandas 사용하기 위해 import"
      ],
      "metadata": {
        "id": "lou2DOOaJu-5"
      },
      "execution_count": 1,
      "outputs": []
    },
    {
      "cell_type": "markdown",
      "source": [
        "Python List를 정의하여 , 해당 List에 5개의 stock을 정의\n",
        "- stock 명시코드 NVDA , **MSFT** , **FB** , **AMZN** , **BA** 로 정의"
      ],
      "metadata": {
        "id": "gg0HKaIPJ6uL"
      }
    },
    {
      "cell_type": "code",
      "source": [
        "my_list = ['NVDA', 'MSFT', 'FB', 'AMZN', 'BA']\n",
        "my_list # print list"
      ],
      "metadata": {
        "colab": {
          "base_uri": "https://localhost:8080/"
        },
        "id": "ycWR5HfsKA4q",
        "outputId": "7a59bfa7-e8e1-4fe3-ce01-92f21baa8b87"
      },
      "execution_count": 3,
      "outputs": [
        {
          "output_type": "execute_result",
          "data": {
            "text/plain": [
              "['NVDA', 'MSFT', 'FB', 'AMZN', 'BA']"
            ]
          },
          "metadata": {},
          "execution_count": 3
        }
      ]
    },
    {
      "cell_type": "code",
      "source": [
        "type(my_list) # list datatype check"
      ],
      "metadata": {
        "colab": {
          "base_uri": "https://localhost:8080/"
        },
        "id": "abneDxC9Kj9C",
        "outputId": "58073b26-2109-4a12-b72e-edc1811a7521"
      },
      "execution_count": 4,
      "outputs": [
        {
          "output_type": "execute_result",
          "data": {
            "text/plain": [
              "list"
            ]
          },
          "metadata": {},
          "execution_count": 4
        }
      ]
    },
    {
      "cell_type": "markdown",
      "source": [
        "정의한 my_list 를 1차원 Pandas Series로 생성\n",
        "\n",
        "출력결과 **List 좌측에 숫자형 인덱스가 자동으로 생성**된것을 확인할 수 있음.\n",
        "\n",
        "***시리즈는 데이터, 그리고 연관된 인덱스***로 만들어짐.\n",
        "- 숫자형 인덱스는 좌측에 자동생성됨.\n",
        "\n",
        "또한 dataType 또한 자동으로 표기됨.\n",
        "\n",
        "**object** dataType은 **pandas에서 문자열**이라 생각하면 됨"
      ],
      "metadata": {
        "id": "aLf5Q_T3KpNd"
      }
    },
    {
      "cell_type": "code",
      "source": [
        "# 1. 먼저 pandas 생성자 메서드 사용\n",
        "# Series() 메서드 사용하면, Pandas Series를 자동으로 생성해줌.\n",
        "# Python 코드에서 생성한 List를 Pandas Series로 생성\n",
        "series_1 = pd.Series(data = my_list)\n",
        "# Series 출력\n",
        "series_1"
      ],
      "metadata": {
        "colab": {
          "base_uri": "https://localhost:8080/"
        },
        "id": "7_fRHcHcKoLD",
        "outputId": "3e690d05-9bec-4f42-8f16-d0f7a9684121"
      },
      "execution_count": 6,
      "outputs": [
        {
          "output_type": "execute_result",
          "data": {
            "text/plain": [
              "0    NVDA\n",
              "1    MSFT\n",
              "2      FB\n",
              "3    AMZN\n",
              "4      BA\n",
              "dtype: object"
            ]
          },
          "metadata": {},
          "execution_count": 6
        }
      ]
    },
    {
      "cell_type": "code",
      "source": [
        "print(type(series_1)) # type : pandas.core.series.Series"
      ],
      "metadata": {
        "colab": {
          "base_uri": "https://localhost:8080/"
        },
        "id": "2i0vtgbOLu-0",
        "outputId": "43b4cde1-4c5f-4021-a657-978a043e1e96"
      },
      "execution_count": 16,
      "outputs": [
        {
          "output_type": "stream",
          "name": "stdout",
          "text": [
            "<class 'pandas.core.series.Series'>\n"
          ]
        }
      ]
    },
    {
      "cell_type": "code",
      "source": [
        "# 숫자형 리스트를 통해 Pandas Series를 생성\n",
        "# Data Type = int64 (정수형 , 64비트 메모리를 백엔드에서 사용중)\n",
        "series_2 = pd.Series(data = [100, 200, 500, 1000, 5000])\n",
        "series_2"
      ],
      "metadata": {
        "colab": {
          "base_uri": "https://localhost:8080/"
        },
        "id": "f3gqSkrKMIex",
        "outputId": "b6104a77-3478-4feb-89dc-e86b2c698cb1"
      },
      "execution_count": 10,
      "outputs": [
        {
          "output_type": "execute_result",
          "data": {
            "text/plain": [
              "0     100\n",
              "1     200\n",
              "2     500\n",
              "3    1000\n",
              "4    5000\n",
              "dtype: int64"
            ]
          },
          "metadata": {},
          "execution_count": 10
        }
      ]
    },
    {
      "cell_type": "code",
      "source": [
        "# 나만의 Pandas Series 생성\n",
        "my_series = pd.Series(data = ['God Father', 'Django', 'Inside Out'])\n",
        "my_series"
      ],
      "metadata": {
        "colab": {
          "base_uri": "https://localhost:8080/"
        },
        "id": "SIxz32OPMpU7",
        "outputId": "13b84730-7e4a-4c88-95a6-c93fe92b790a"
      },
      "execution_count": 12,
      "outputs": [
        {
          "output_type": "execute_result",
          "data": {
            "text/plain": [
              "0    God Father\n",
              "1        Django\n",
              "2    Inside Out\n",
              "dtype: object"
            ]
          },
          "metadata": {},
          "execution_count": 12
        }
      ]
    },
    {
      "cell_type": "code",
      "source": [
        "# type Check\n",
        "print(type(my_series))"
      ],
      "metadata": {
        "colab": {
          "base_uri": "https://localhost:8080/"
        },
        "id": "H95T_oO7NCkY",
        "outputId": "137c2b01-41b3-4a5c-c626-c983228c812e"
      },
      "execution_count": 15,
      "outputs": [
        {
          "output_type": "stream",
          "name": "stdout",
          "text": [
            "<class 'pandas.core.series.Series'>\n"
          ]
        }
      ]
    },
    {
      "cell_type": "markdown",
      "source": [
        "# Pandas Series Index를 Custom Index로 변경\n",
        "1차원 Pandas Series를 나만의 Custom Label 혹은 Custom Index로 생성하는 방법.\n",
        "\n",
        "Pandas 기본 메서드로 Series를 생성하면, 정수형 인덱스가 자동으로 생성됨.\n",
        "- 이를 Custom으로 정의할 수 있음."
      ],
      "metadata": {
        "id": "hrUEeeIqQCKW"
      }
    },
    {
      "cell_type": "code",
      "source": [
        "# python list 생성\n",
        "# Pandas Series의 실제 값\n",
        "my_list = ['NVDA', 'MSFT', 'FB', 'AMZN', 'BA']\n",
        "my_list"
      ],
      "metadata": {
        "colab": {
          "base_uri": "https://localhost:8080/"
        },
        "id": "8uyJ4IbOQVUS",
        "outputId": "c039a54a-0cf6-4c15-b6b9-c829be6ab09f"
      },
      "execution_count": 17,
      "outputs": [
        {
          "output_type": "execute_result",
          "data": {
            "text/plain": [
              "['NVDA', 'MSFT', 'FB', 'AMZN', 'BA']"
            ]
          },
          "metadata": {},
          "execution_count": 17
        }
      ]
    },
    {
      "cell_type": "code",
      "source": [
        "# 생성한 Pandas Series의 Custom Index로 사용할 Python List 생성\n",
        "my_labels = ['stock#1','stock#2', 'stock#3', 'stock#4', 'stock#5']\n",
        "my_labels"
      ],
      "metadata": {
        "colab": {
          "base_uri": "https://localhost:8080/"
        },
        "id": "ovtXTyPMQeVI",
        "outputId": "f32cdf5c-9741-417c-eabe-55350d3564dd"
      },
      "execution_count": 18,
      "outputs": [
        {
          "output_type": "execute_result",
          "data": {
            "text/plain": [
              "['stock#1', 'stock#2', 'stock#3', 'stock#4', 'stock#5']"
            ]
          },
          "metadata": {},
          "execution_count": 18
        }
      ]
    },
    {
      "cell_type": "code",
      "source": [
        "# 아래 메서드 사용해서 Custom index 지정 가능\n",
        "# pd.Series(data = {value_list}, index = {label_list})\n",
        "# 값은 my_list가 되고 , my_list의 Index는 미리 정의한 my_labels 가 된것을 확인할 수 있음.\n",
        "series_3 = pd.Series(data = my_list , index = my_labels)\n",
        "series_3"
      ],
      "metadata": {
        "colab": {
          "base_uri": "https://localhost:8080/"
        },
        "id": "gyxAbMKsQv_8",
        "outputId": "c919d3ae-32ec-45c8-e6f8-07c624bab490"
      },
      "execution_count": 19,
      "outputs": [
        {
          "output_type": "execute_result",
          "data": {
            "text/plain": [
              "stock#1    NVDA\n",
              "stock#2    MSFT\n",
              "stock#3      FB\n",
              "stock#4    AMZN\n",
              "stock#5      BA\n",
              "dtype: object"
            ]
          },
          "metadata": {},
          "execution_count": 19
        }
      ]
    },
    {
      "cell_type": "code",
      "source": [
        "# type 확인\n",
        "print(type(series_3))"
      ],
      "metadata": {
        "colab": {
          "base_uri": "https://localhost:8080/"
        },
        "id": "4811zuYYRJo4",
        "outputId": "00c97828-eb39-463f-c1b8-aa58537cc5ac"
      },
      "execution_count": 20,
      "outputs": [
        {
          "output_type": "stream",
          "name": "stdout",
          "text": [
            "<class 'pandas.core.series.Series'>\n"
          ]
        }
      ]
    },
    {
      "cell_type": "code",
      "source": [
        "# value 정의\n",
        "my_movie = ['The Godfather', 'Last of us', 'Star Wars']\n",
        "my_movie\n",
        "\n",
        "# label 정의\n",
        "my_movie_label = ['movie #1','movie #2','movie #3']\n",
        "my_movie_label\n",
        "\n",
        "my_series = pd.Series(data = my_movie, index = my_movie_label)\n",
        "print(my_series,'\\n')\n",
        "\n",
        "print(type(my_series))"
      ],
      "metadata": {
        "colab": {
          "base_uri": "https://localhost:8080/"
        },
        "id": "xbKhBoZ8RhmO",
        "outputId": "42abfeda-fbb1-4203-f5f1-0dbbf8d7d190"
      },
      "execution_count": 25,
      "outputs": [
        {
          "output_type": "stream",
          "name": "stdout",
          "text": [
            "movie #1    The Godfather\n",
            "movie #2       Last of us\n",
            "movie #3        Star Wars\n",
            "dtype: object \n",
            "\n",
            "<class 'pandas.core.series.Series'>\n"
          ]
        }
      ]
    }
  ]
}