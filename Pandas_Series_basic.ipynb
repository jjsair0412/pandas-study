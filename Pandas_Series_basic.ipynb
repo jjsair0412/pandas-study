{
  "cells": [
    {
      "cell_type": "markdown",
      "metadata": {
        "id": "VvalVRcEIRV_"
      },
      "source": [
        "# Pandas Series Repository\n",
        "data 분석을 위한 Pandas 라이브러리에 대해 정리해 두었습니다."
      ]
    },
    {
      "cell_type": "markdown",
      "metadata": {
        "id": "C27_VZHxI2-L"
      },
      "source": [
        "Pandas는 numpy라는 데이터 조작 분석 툴로 데이터프레임이라 하는 데이터 구조를 사용함.\n",
        "\n",
        "Pandas를 python의 엑셀이라 보면 됨.\n",
        "\n",
        "테이블형식 데이터를 매우 쉽게 처리가 가능함.\n",
        "- 행, 열을 활용하거나 데이터를 저장할 수 있음.\n",
        "\n",
        "**Pandas Series 는 데이터 프레임의 열을 일컫는 표현**\n",
        "- Pandas Series는 열이 하나밖에 없음\n",
        "\n",
        "**DataFrame 이란 다차원 테이블 데이터**"
      ]
    },
    {
      "cell_type": "code",
      "execution_count": 1,
      "metadata": {
        "id": "lou2DOOaJu-5"
      },
      "outputs": [],
      "source": [
        "import pandas as pd # pandas 사용하기 위해 import"
      ]
    },
    {
      "cell_type": "markdown",
      "metadata": {
        "id": "gg0HKaIPJ6uL"
      },
      "source": [
        "Python List를 정의하여 , 해당 List에 5개의 stock을 정의\n",
        "- stock 명시코드 NVDA , **MSFT** , **FB** , **AMZN** , **BA** 로 정의"
      ]
    },
    {
      "cell_type": "code",
      "execution_count": 3,
      "metadata": {
        "colab": {
          "base_uri": "https://localhost:8080/"
        },
        "id": "ycWR5HfsKA4q",
        "outputId": "7a59bfa7-e8e1-4fe3-ce01-92f21baa8b87"
      },
      "outputs": [
        {
          "data": {
            "text/plain": [
              "['NVDA', 'MSFT', 'FB', 'AMZN', 'BA']"
            ]
          },
          "execution_count": 3,
          "metadata": {},
          "output_type": "execute_result"
        }
      ],
      "source": [
        "my_list = ['NVDA', 'MSFT', 'FB', 'AMZN', 'BA']\n",
        "my_list # print list"
      ]
    },
    {
      "cell_type": "code",
      "execution_count": 4,
      "metadata": {
        "colab": {
          "base_uri": "https://localhost:8080/"
        },
        "id": "abneDxC9Kj9C",
        "outputId": "58073b26-2109-4a12-b72e-edc1811a7521"
      },
      "outputs": [
        {
          "data": {
            "text/plain": [
              "list"
            ]
          },
          "execution_count": 4,
          "metadata": {},
          "output_type": "execute_result"
        }
      ],
      "source": [
        "type(my_list) # list datatype check"
      ]
    },
    {
      "cell_type": "markdown",
      "metadata": {
        "id": "aLf5Q_T3KpNd"
      },
      "source": [
        "정의한 my_list 를 1차원 Pandas Series로 생성\n",
        "\n",
        "출력결과 **List 좌측에 숫자형 인덱스가 자동으로 생성**된것을 확인할 수 있음.\n",
        "\n",
        "***시리즈는 데이터, 그리고 연관된 인덱스***로 만들어짐.\n",
        "- 숫자형 인덱스는 좌측에 자동생성됨.\n",
        "\n",
        "또한 dataType 또한 자동으로 표기됨.\n",
        "\n",
        "**object** dataType은 **pandas에서 문자열**이라 생각하면 됨"
      ]
    },
    {
      "cell_type": "code",
      "execution_count": 6,
      "metadata": {
        "colab": {
          "base_uri": "https://localhost:8080/"
        },
        "id": "7_fRHcHcKoLD",
        "outputId": "3e690d05-9bec-4f42-8f16-d0f7a9684121"
      },
      "outputs": [
        {
          "data": {
            "text/plain": [
              "0    NVDA\n",
              "1    MSFT\n",
              "2      FB\n",
              "3    AMZN\n",
              "4      BA\n",
              "dtype: object"
            ]
          },
          "execution_count": 6,
          "metadata": {},
          "output_type": "execute_result"
        }
      ],
      "source": [
        "# 1. 먼저 pandas 생성자 메서드 사용\n",
        "# Series() 메서드 사용하면, Pandas Series를 자동으로 생성해줌.\n",
        "# Python 코드에서 생성한 List를 Pandas Series로 생성\n",
        "series_1 = pd.Series(data = my_list)\n",
        "# Series 출력\n",
        "series_1"
      ]
    },
    {
      "cell_type": "code",
      "execution_count": 16,
      "metadata": {
        "colab": {
          "base_uri": "https://localhost:8080/"
        },
        "id": "2i0vtgbOLu-0",
        "outputId": "43b4cde1-4c5f-4021-a657-978a043e1e96"
      },
      "outputs": [
        {
          "name": "stdout",
          "output_type": "stream",
          "text": [
            "<class 'pandas.core.series.Series'>\n"
          ]
        }
      ],
      "source": [
        "print(type(series_1)) # type : pandas.core.series.Series"
      ]
    },
    {
      "cell_type": "code",
      "execution_count": 10,
      "metadata": {
        "colab": {
          "base_uri": "https://localhost:8080/"
        },
        "id": "f3gqSkrKMIex",
        "outputId": "b6104a77-3478-4feb-89dc-e86b2c698cb1"
      },
      "outputs": [
        {
          "data": {
            "text/plain": [
              "0     100\n",
              "1     200\n",
              "2     500\n",
              "3    1000\n",
              "4    5000\n",
              "dtype: int64"
            ]
          },
          "execution_count": 10,
          "metadata": {},
          "output_type": "execute_result"
        }
      ],
      "source": [
        "# 숫자형 리스트를 통해 Pandas Series를 생성\n",
        "# Data Type = int64 (정수형 , 64비트 메모리를 백엔드에서 사용중)\n",
        "series_2 = pd.Series(data = [100, 200, 500, 1000, 5000])\n",
        "series_2"
      ]
    },
    {
      "cell_type": "code",
      "execution_count": 12,
      "metadata": {
        "colab": {
          "base_uri": "https://localhost:8080/"
        },
        "id": "SIxz32OPMpU7",
        "outputId": "13b84730-7e4a-4c88-95a6-c93fe92b790a"
      },
      "outputs": [
        {
          "data": {
            "text/plain": [
              "0    God Father\n",
              "1        Django\n",
              "2    Inside Out\n",
              "dtype: object"
            ]
          },
          "execution_count": 12,
          "metadata": {},
          "output_type": "execute_result"
        }
      ],
      "source": [
        "# 나만의 Pandas Series 생성\n",
        "my_series = pd.Series(data = ['God Father', 'Django', 'Inside Out'])\n",
        "my_series"
      ]
    },
    {
      "cell_type": "code",
      "execution_count": 15,
      "metadata": {
        "colab": {
          "base_uri": "https://localhost:8080/"
        },
        "id": "H95T_oO7NCkY",
        "outputId": "137c2b01-41b3-4a5c-c626-c983228c812e"
      },
      "outputs": [
        {
          "name": "stdout",
          "output_type": "stream",
          "text": [
            "<class 'pandas.core.series.Series'>\n"
          ]
        }
      ],
      "source": [
        "# type Check\n",
        "print(type(my_series))"
      ]
    }
  ],
  "metadata": {
    "colab": {
      "provenance": []
    },
    "kernelspec": {
      "display_name": "Python 3",
      "name": "python3"
    },
    "language_info": {
      "name": "python",
      "version": "3.12.2"
    }
  },
  "nbformat": 4,
  "nbformat_minor": 0
}
